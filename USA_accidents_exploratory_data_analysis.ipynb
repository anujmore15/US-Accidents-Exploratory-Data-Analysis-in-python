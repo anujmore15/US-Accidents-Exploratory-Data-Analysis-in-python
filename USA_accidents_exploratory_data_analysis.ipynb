{
  "nbformat": 4,
  "nbformat_minor": 0,
  "metadata": {
    "colab": {
      "name": "USA_accidents_exploratory_data_analysis.ipynb",
      "provenance": [],
      "collapsed_sections": [],
      "authorship_tag": "ABX9TyPMZqB18VFtYJ2w14S1fuxp",
      "include_colab_link": true
    },
    "kernelspec": {
      "name": "python3",
      "display_name": "Python 3"
    },
    "language_info": {
      "name": "python"
    }
  },
  "cells": [
    {
      "cell_type": "markdown",
      "metadata": {
        "id": "view-in-github",
        "colab_type": "text"
      },
      "source": [
        "<a href=\"https://colab.research.google.com/github/anujmore15/US-Accidents-Exploratory-Data-Analysis-in-python/blob/main/USA_accidents_exploratory_data_analysis.ipynb\" target=\"_parent\"><img src=\"https://colab.research.google.com/assets/colab-badge.svg\" alt=\"Open In Colab\"/></a>"
      ]
    },
    {
      "cell_type": "markdown",
      "source": [
        "# **US Accidents Exploratory Data Analysis**\n",
        "- Dataset Source Kaggle\n",
        "- This dataset does not contain data about NewYork"
      ],
      "metadata": {
        "id": "PQzcPcduzAaj"
      }
    },
    {
      "cell_type": "markdown",
      "source": [
        "## Downloading the data"
      ],
      "metadata": {
        "id": "V3BX-jvozans"
      }
    },
    {
      "cell_type": "markdown",
      "source": [
        "### Downloading Kaggle data sets directly into Colab\n",
        "\n",
        "Install the kaggle python library"
      ],
      "metadata": {
        "id": "p-Gal8ow3nOp"
      }
    },
    {
      "cell_type": "code",
      "source": [
        "!pip install kaggle --quiet"
      ],
      "metadata": {
        "id": "ELpkeu-A1h1h"
      },
      "execution_count": 2,
      "outputs": []
    },
    {
      "cell_type": "markdown",
      "source": [
        "Mount the Google drive so you can store your kaggle API credentials for future use"
      ],
      "metadata": {
        "id": "FsPRHUkx3vnR"
      }
    },
    {
      "cell_type": "code",
      "source": [
        "from google.colab import drive\n",
        "drive.mount('/content/drive')"
      ],
      "metadata": {
        "colab": {
          "base_uri": "https://localhost:8080/"
        },
        "id": "Q7in-d8KzYQy",
        "outputId": "6b9b43c2-b0d6-4895-ccd1-afcc6d348c00"
      },
      "execution_count": 3,
      "outputs": [
        {
          "output_type": "stream",
          "name": "stdout",
          "text": [
            "Mounted at /content/drive\n"
          ]
        }
      ]
    },
    {
      "cell_type": "markdown",
      "source": [
        "Make a directory for kaggle at the temporary instance location on Colab drive.\n",
        "\n",
        "Download your kaggle API key (.json file). You can do this by going to your kaggle account page and clicking 'Create new API token' under the API section."
      ],
      "metadata": {
        "id": "SMLChRD84BaC"
      }
    },
    {
      "cell_type": "code",
      "source": [
        "! mkdir ~/.kaggle"
      ],
      "metadata": {
        "id": "L8crWRoU4UbM"
      },
      "execution_count": 4,
      "outputs": []
    },
    {
      "cell_type": "markdown",
      "source": [
        "Upload the json file to Google Drive and then copy to the temporary location"
      ],
      "metadata": {
        "id": "dFDWE-8x4zn1"
      }
    },
    {
      "cell_type": "code",
      "source": [
        "!cp /content/drive/MyDrive/kaggle.json ~/.kaggle/kaggle.json"
      ],
      "metadata": {
        "id": "vywB4DaR4UZd"
      },
      "execution_count": 5,
      "outputs": []
    },
    {
      "cell_type": "markdown",
      "source": [
        "Change the file permissions to read/write to the owner only"
      ],
      "metadata": {
        "id": "HvnsNTn25QJo"
      }
    },
    {
      "cell_type": "code",
      "source": [
        "! chmod 600 ~/.kaggle/kaggle.json"
      ],
      "metadata": {
        "id": "p6pjDohR4UPS"
      },
      "execution_count": 6,
      "outputs": []
    },
    {
      "cell_type": "markdown",
      "source": [
        "Downloading the dataset"
      ],
      "metadata": {
        "id": "BrGjYAxY6pP7"
      }
    },
    {
      "cell_type": "code",
      "source": [
        "!kaggle datasets download sobhanmoosavi/us-accidents"
      ],
      "metadata": {
        "colab": {
          "base_uri": "https://localhost:8080/"
        },
        "id": "C4RuyKNH4UNq",
        "outputId": "73024b33-0aff-423b-f767-d14f82155f98"
      },
      "execution_count": 7,
      "outputs": [
        {
          "output_type": "stream",
          "name": "stdout",
          "text": [
            "Downloading us-accidents.zip to /content\n",
            " 99% 265M/269M [00:10<00:00, 28.3MB/s]\n",
            "100% 269M/269M [00:10<00:00, 26.7MB/s]\n"
          ]
        }
      ]
    },
    {
      "cell_type": "code",
      "source": [
        "! unzip us-accidents.zip"
      ],
      "metadata": {
        "colab": {
          "base_uri": "https://localhost:8080/"
        },
        "id": "wXtItf64DQpU",
        "outputId": "5b49927c-d46c-4c23-ba1e-4e89a63fc88a"
      },
      "execution_count": 8,
      "outputs": [
        {
          "output_type": "stream",
          "name": "stdout",
          "text": [
            "Archive:  us-accidents.zip\n",
            "  inflating: US_Accidents_Dec21_updated.csv  \n"
          ]
        }
      ]
    },
    {
      "cell_type": "code",
      "source": [
        "data_filename = '/content/US_Accidents_Dec21_updated.csv'"
      ],
      "metadata": {
        "id": "9_6ApqeN7d7P"
      },
      "execution_count": 9,
      "outputs": []
    },
    {
      "cell_type": "markdown",
      "source": [
        "## Data Exploration and Cleaning"
      ],
      "metadata": {
        "id": "ZMNGoVTGzoL1"
      }
    },
    {
      "cell_type": "markdown",
      "source": [
        "\n",
        "\n",
        "1.  Load the file using Pandas \n",
        "2.   Look at some information about the data & the columns\n",
        "3. Fix any missing or incorrect values\n",
        "\n",
        "\n",
        "\n",
        "\n",
        "\n"
      ],
      "metadata": {
        "id": "rT66ufPA7yu1"
      }
    },
    {
      "cell_type": "code",
      "source": [
        "import pandas as pd"
      ],
      "metadata": {
        "id": "Ll6b6zxqzYNp"
      },
      "execution_count": 10,
      "outputs": []
    },
    {
      "cell_type": "code",
      "source": [
        "df = pd.read_csv(data_filename)"
      ],
      "metadata": {
        "id": "PUl7VxQgzYLu"
      },
      "execution_count": 11,
      "outputs": []
    },
    {
      "cell_type": "code",
      "source": [
        "df.head()"
      ],
      "metadata": {
        "colab": {
          "base_uri": "https://localhost:8080/",
          "height": 508
        },
        "id": "tVSQDpV_zq6c",
        "outputId": "c9d688c6-a8e6-4151-d0b7-f11f31b916ad"
      },
      "execution_count": 12,
      "outputs": [
        {
          "output_type": "execute_result",
          "data": {
            "text/plain": [
              "    ID  Severity           Start_Time             End_Time  Start_Lat  \\\n",
              "0  A-1         3  2016-02-08 00:37:08  2016-02-08 06:37:08  40.108910   \n",
              "1  A-2         2  2016-02-08 05:56:20  2016-02-08 11:56:20  39.865420   \n",
              "2  A-3         2  2016-02-08 06:15:39  2016-02-08 12:15:39  39.102660   \n",
              "3  A-4         2  2016-02-08 06:51:45  2016-02-08 12:51:45  41.062130   \n",
              "4  A-5         3  2016-02-08 07:53:43  2016-02-08 13:53:43  39.172393   \n",
              "\n",
              "   Start_Lng    End_Lat    End_Lng  Distance(mi)  \\\n",
              "0 -83.092860  40.112060 -83.031870         3.230   \n",
              "1 -84.062800  39.865010 -84.048730         0.747   \n",
              "2 -84.524680  39.102090 -84.523960         0.055   \n",
              "3 -81.537840  41.062170 -81.535470         0.123   \n",
              "4 -84.492792  39.170476 -84.501798         0.500   \n",
              "\n",
              "                                         Description  ...  Roundabout Station  \\\n",
              "0  Between Sawmill Rd/Exit 20 and OH-315/Olentang...  ...       False   False   \n",
              "1                 At OH-4/OH-235/Exit 41 - Accident.  ...       False   False   \n",
              "2                   At I-71/US-50/Exit 1 - Accident.  ...       False   False   \n",
              "3                    At Dart Ave/Exit 21 - Accident.  ...       False   False   \n",
              "4                 At Mitchell Ave/Exit 6 - Accident.  ...       False   False   \n",
              "\n",
              "    Stop Traffic_Calming Traffic_Signal Turning_Loop Sunrise_Sunset  \\\n",
              "0  False           False          False        False          Night   \n",
              "1  False           False          False        False          Night   \n",
              "2  False           False          False        False          Night   \n",
              "3  False           False          False        False          Night   \n",
              "4  False           False          False        False            Day   \n",
              "\n",
              "  Civil_Twilight Nautical_Twilight Astronomical_Twilight  \n",
              "0          Night             Night                 Night  \n",
              "1          Night             Night                 Night  \n",
              "2          Night             Night                   Day  \n",
              "3          Night               Day                   Day  \n",
              "4            Day               Day                   Day  \n",
              "\n",
              "[5 rows x 47 columns]"
            ],
            "text/html": [
              "\n",
              "  <div id=\"df-5580054d-500e-4aab-b416-1b04cca2ee77\">\n",
              "    <div class=\"colab-df-container\">\n",
              "      <div>\n",
              "<style scoped>\n",
              "    .dataframe tbody tr th:only-of-type {\n",
              "        vertical-align: middle;\n",
              "    }\n",
              "\n",
              "    .dataframe tbody tr th {\n",
              "        vertical-align: top;\n",
              "    }\n",
              "\n",
              "    .dataframe thead th {\n",
              "        text-align: right;\n",
              "    }\n",
              "</style>\n",
              "<table border=\"1\" class=\"dataframe\">\n",
              "  <thead>\n",
              "    <tr style=\"text-align: right;\">\n",
              "      <th></th>\n",
              "      <th>ID</th>\n",
              "      <th>Severity</th>\n",
              "      <th>Start_Time</th>\n",
              "      <th>End_Time</th>\n",
              "      <th>Start_Lat</th>\n",
              "      <th>Start_Lng</th>\n",
              "      <th>End_Lat</th>\n",
              "      <th>End_Lng</th>\n",
              "      <th>Distance(mi)</th>\n",
              "      <th>Description</th>\n",
              "      <th>...</th>\n",
              "      <th>Roundabout</th>\n",
              "      <th>Station</th>\n",
              "      <th>Stop</th>\n",
              "      <th>Traffic_Calming</th>\n",
              "      <th>Traffic_Signal</th>\n",
              "      <th>Turning_Loop</th>\n",
              "      <th>Sunrise_Sunset</th>\n",
              "      <th>Civil_Twilight</th>\n",
              "      <th>Nautical_Twilight</th>\n",
              "      <th>Astronomical_Twilight</th>\n",
              "    </tr>\n",
              "  </thead>\n",
              "  <tbody>\n",
              "    <tr>\n",
              "      <th>0</th>\n",
              "      <td>A-1</td>\n",
              "      <td>3</td>\n",
              "      <td>2016-02-08 00:37:08</td>\n",
              "      <td>2016-02-08 06:37:08</td>\n",
              "      <td>40.108910</td>\n",
              "      <td>-83.092860</td>\n",
              "      <td>40.112060</td>\n",
              "      <td>-83.031870</td>\n",
              "      <td>3.230</td>\n",
              "      <td>Between Sawmill Rd/Exit 20 and OH-315/Olentang...</td>\n",
              "      <td>...</td>\n",
              "      <td>False</td>\n",
              "      <td>False</td>\n",
              "      <td>False</td>\n",
              "      <td>False</td>\n",
              "      <td>False</td>\n",
              "      <td>False</td>\n",
              "      <td>Night</td>\n",
              "      <td>Night</td>\n",
              "      <td>Night</td>\n",
              "      <td>Night</td>\n",
              "    </tr>\n",
              "    <tr>\n",
              "      <th>1</th>\n",
              "      <td>A-2</td>\n",
              "      <td>2</td>\n",
              "      <td>2016-02-08 05:56:20</td>\n",
              "      <td>2016-02-08 11:56:20</td>\n",
              "      <td>39.865420</td>\n",
              "      <td>-84.062800</td>\n",
              "      <td>39.865010</td>\n",
              "      <td>-84.048730</td>\n",
              "      <td>0.747</td>\n",
              "      <td>At OH-4/OH-235/Exit 41 - Accident.</td>\n",
              "      <td>...</td>\n",
              "      <td>False</td>\n",
              "      <td>False</td>\n",
              "      <td>False</td>\n",
              "      <td>False</td>\n",
              "      <td>False</td>\n",
              "      <td>False</td>\n",
              "      <td>Night</td>\n",
              "      <td>Night</td>\n",
              "      <td>Night</td>\n",
              "      <td>Night</td>\n",
              "    </tr>\n",
              "    <tr>\n",
              "      <th>2</th>\n",
              "      <td>A-3</td>\n",
              "      <td>2</td>\n",
              "      <td>2016-02-08 06:15:39</td>\n",
              "      <td>2016-02-08 12:15:39</td>\n",
              "      <td>39.102660</td>\n",
              "      <td>-84.524680</td>\n",
              "      <td>39.102090</td>\n",
              "      <td>-84.523960</td>\n",
              "      <td>0.055</td>\n",
              "      <td>At I-71/US-50/Exit 1 - Accident.</td>\n",
              "      <td>...</td>\n",
              "      <td>False</td>\n",
              "      <td>False</td>\n",
              "      <td>False</td>\n",
              "      <td>False</td>\n",
              "      <td>False</td>\n",
              "      <td>False</td>\n",
              "      <td>Night</td>\n",
              "      <td>Night</td>\n",
              "      <td>Night</td>\n",
              "      <td>Day</td>\n",
              "    </tr>\n",
              "    <tr>\n",
              "      <th>3</th>\n",
              "      <td>A-4</td>\n",
              "      <td>2</td>\n",
              "      <td>2016-02-08 06:51:45</td>\n",
              "      <td>2016-02-08 12:51:45</td>\n",
              "      <td>41.062130</td>\n",
              "      <td>-81.537840</td>\n",
              "      <td>41.062170</td>\n",
              "      <td>-81.535470</td>\n",
              "      <td>0.123</td>\n",
              "      <td>At Dart Ave/Exit 21 - Accident.</td>\n",
              "      <td>...</td>\n",
              "      <td>False</td>\n",
              "      <td>False</td>\n",
              "      <td>False</td>\n",
              "      <td>False</td>\n",
              "      <td>False</td>\n",
              "      <td>False</td>\n",
              "      <td>Night</td>\n",
              "      <td>Night</td>\n",
              "      <td>Day</td>\n",
              "      <td>Day</td>\n",
              "    </tr>\n",
              "    <tr>\n",
              "      <th>4</th>\n",
              "      <td>A-5</td>\n",
              "      <td>3</td>\n",
              "      <td>2016-02-08 07:53:43</td>\n",
              "      <td>2016-02-08 13:53:43</td>\n",
              "      <td>39.172393</td>\n",
              "      <td>-84.492792</td>\n",
              "      <td>39.170476</td>\n",
              "      <td>-84.501798</td>\n",
              "      <td>0.500</td>\n",
              "      <td>At Mitchell Ave/Exit 6 - Accident.</td>\n",
              "      <td>...</td>\n",
              "      <td>False</td>\n",
              "      <td>False</td>\n",
              "      <td>False</td>\n",
              "      <td>False</td>\n",
              "      <td>False</td>\n",
              "      <td>False</td>\n",
              "      <td>Day</td>\n",
              "      <td>Day</td>\n",
              "      <td>Day</td>\n",
              "      <td>Day</td>\n",
              "    </tr>\n",
              "  </tbody>\n",
              "</table>\n",
              "<p>5 rows × 47 columns</p>\n",
              "</div>\n",
              "      <button class=\"colab-df-convert\" onclick=\"convertToInteractive('df-5580054d-500e-4aab-b416-1b04cca2ee77')\"\n",
              "              title=\"Convert this dataframe to an interactive table.\"\n",
              "              style=\"display:none;\">\n",
              "        \n",
              "  <svg xmlns=\"http://www.w3.org/2000/svg\" height=\"24px\"viewBox=\"0 0 24 24\"\n",
              "       width=\"24px\">\n",
              "    <path d=\"M0 0h24v24H0V0z\" fill=\"none\"/>\n",
              "    <path d=\"M18.56 5.44l.94 2.06.94-2.06 2.06-.94-2.06-.94-.94-2.06-.94 2.06-2.06.94zm-11 1L8.5 8.5l.94-2.06 2.06-.94-2.06-.94L8.5 2.5l-.94 2.06-2.06.94zm10 10l.94 2.06.94-2.06 2.06-.94-2.06-.94-.94-2.06-.94 2.06-2.06.94z\"/><path d=\"M17.41 7.96l-1.37-1.37c-.4-.4-.92-.59-1.43-.59-.52 0-1.04.2-1.43.59L10.3 9.45l-7.72 7.72c-.78.78-.78 2.05 0 2.83L4 21.41c.39.39.9.59 1.41.59.51 0 1.02-.2 1.41-.59l7.78-7.78 2.81-2.81c.8-.78.8-2.07 0-2.86zM5.41 20L4 18.59l7.72-7.72 1.47 1.35L5.41 20z\"/>\n",
              "  </svg>\n",
              "      </button>\n",
              "      \n",
              "  <style>\n",
              "    .colab-df-container {\n",
              "      display:flex;\n",
              "      flex-wrap:wrap;\n",
              "      gap: 12px;\n",
              "    }\n",
              "\n",
              "    .colab-df-convert {\n",
              "      background-color: #E8F0FE;\n",
              "      border: none;\n",
              "      border-radius: 50%;\n",
              "      cursor: pointer;\n",
              "      display: none;\n",
              "      fill: #1967D2;\n",
              "      height: 32px;\n",
              "      padding: 0 0 0 0;\n",
              "      width: 32px;\n",
              "    }\n",
              "\n",
              "    .colab-df-convert:hover {\n",
              "      background-color: #E2EBFA;\n",
              "      box-shadow: 0px 1px 2px rgba(60, 64, 67, 0.3), 0px 1px 3px 1px rgba(60, 64, 67, 0.15);\n",
              "      fill: #174EA6;\n",
              "    }\n",
              "\n",
              "    [theme=dark] .colab-df-convert {\n",
              "      background-color: #3B4455;\n",
              "      fill: #D2E3FC;\n",
              "    }\n",
              "\n",
              "    [theme=dark] .colab-df-convert:hover {\n",
              "      background-color: #434B5C;\n",
              "      box-shadow: 0px 1px 3px 1px rgba(0, 0, 0, 0.15);\n",
              "      filter: drop-shadow(0px 1px 2px rgba(0, 0, 0, 0.3));\n",
              "      fill: #FFFFFF;\n",
              "    }\n",
              "  </style>\n",
              "\n",
              "      <script>\n",
              "        const buttonEl =\n",
              "          document.querySelector('#df-5580054d-500e-4aab-b416-1b04cca2ee77 button.colab-df-convert');\n",
              "        buttonEl.style.display =\n",
              "          google.colab.kernel.accessAllowed ? 'block' : 'none';\n",
              "\n",
              "        async function convertToInteractive(key) {\n",
              "          const element = document.querySelector('#df-5580054d-500e-4aab-b416-1b04cca2ee77');\n",
              "          const dataTable =\n",
              "            await google.colab.kernel.invokeFunction('convertToInteractive',\n",
              "                                                     [key], {});\n",
              "          if (!dataTable) return;\n",
              "\n",
              "          const docLinkHtml = 'Like what you see? Visit the ' +\n",
              "            '<a target=\"_blank\" href=https://colab.research.google.com/notebooks/data_table.ipynb>data table notebook</a>'\n",
              "            + ' to learn more about interactive tables.';\n",
              "          element.innerHTML = '';\n",
              "          dataTable['output_type'] = 'display_data';\n",
              "          await google.colab.output.renderOutput(dataTable, element);\n",
              "          const docLink = document.createElement('div');\n",
              "          docLink.innerHTML = docLinkHtml;\n",
              "          element.appendChild(docLink);\n",
              "        }\n",
              "      </script>\n",
              "    </div>\n",
              "  </div>\n",
              "  "
            ]
          },
          "metadata": {},
          "execution_count": 12
        }
      ]
    },
    {
      "cell_type": "code",
      "source": [
        "df.info()"
      ],
      "metadata": {
        "colab": {
          "base_uri": "https://localhost:8080/"
        },
        "id": "XpHMdhL_-ZTe",
        "outputId": "cf2cdd99-d4d5-4c7d-ba15-3e528f75d3a1"
      },
      "execution_count": 13,
      "outputs": [
        {
          "output_type": "stream",
          "name": "stdout",
          "text": [
            "<class 'pandas.core.frame.DataFrame'>\n",
            "RangeIndex: 2845342 entries, 0 to 2845341\n",
            "Data columns (total 47 columns):\n",
            " #   Column                 Dtype  \n",
            "---  ------                 -----  \n",
            " 0   ID                     object \n",
            " 1   Severity               int64  \n",
            " 2   Start_Time             object \n",
            " 3   End_Time               object \n",
            " 4   Start_Lat              float64\n",
            " 5   Start_Lng              float64\n",
            " 6   End_Lat                float64\n",
            " 7   End_Lng                float64\n",
            " 8   Distance(mi)           float64\n",
            " 9   Description            object \n",
            " 10  Number                 float64\n",
            " 11  Street                 object \n",
            " 12  Side                   object \n",
            " 13  City                   object \n",
            " 14  County                 object \n",
            " 15  State                  object \n",
            " 16  Zipcode                object \n",
            " 17  Country                object \n",
            " 18  Timezone               object \n",
            " 19  Airport_Code           object \n",
            " 20  Weather_Timestamp      object \n",
            " 21  Temperature(F)         float64\n",
            " 22  Wind_Chill(F)          float64\n",
            " 23  Humidity(%)            float64\n",
            " 24  Pressure(in)           float64\n",
            " 25  Visibility(mi)         float64\n",
            " 26  Wind_Direction         object \n",
            " 27  Wind_Speed(mph)        float64\n",
            " 28  Precipitation(in)      float64\n",
            " 29  Weather_Condition      object \n",
            " 30  Amenity                bool   \n",
            " 31  Bump                   bool   \n",
            " 32  Crossing               bool   \n",
            " 33  Give_Way               bool   \n",
            " 34  Junction               bool   \n",
            " 35  No_Exit                bool   \n",
            " 36  Railway                bool   \n",
            " 37  Roundabout             bool   \n",
            " 38  Station                bool   \n",
            " 39  Stop                   bool   \n",
            " 40  Traffic_Calming        bool   \n",
            " 41  Traffic_Signal         bool   \n",
            " 42  Turning_Loop           bool   \n",
            " 43  Sunrise_Sunset         object \n",
            " 44  Civil_Twilight         object \n",
            " 45  Nautical_Twilight      object \n",
            " 46  Astronomical_Twilight  object \n",
            "dtypes: bool(13), float64(13), int64(1), object(20)\n",
            "memory usage: 773.4+ MB\n"
          ]
        }
      ]
    },
    {
      "cell_type": "code",
      "source": [
        "df.describe()"
      ],
      "metadata": {
        "colab": {
          "base_uri": "https://localhost:8080/",
          "height": 364
        },
        "id": "_r1NpZbx-ZP9",
        "outputId": "2c92fd2d-19b6-4f1a-a285-af24d68a32e1"
      },
      "execution_count": 14,
      "outputs": [
        {
          "output_type": "execute_result",
          "data": {
            "text/plain": [
              "           Severity     Start_Lat     Start_Lng       End_Lat       End_Lng  \\\n",
              "count  2.845342e+06  2.845342e+06  2.845342e+06  2.845342e+06  2.845342e+06   \n",
              "mean   2.137572e+00  3.624520e+01 -9.711463e+01  3.624532e+01 -9.711439e+01   \n",
              "std    4.787216e-01  5.363797e+00  1.831782e+01  5.363873e+00  1.831763e+01   \n",
              "min    1.000000e+00  2.456603e+01 -1.245481e+02  2.456601e+01 -1.245457e+02   \n",
              "25%    2.000000e+00  3.344517e+01 -1.180331e+02  3.344628e+01 -1.180333e+02   \n",
              "50%    2.000000e+00  3.609861e+01 -9.241808e+01  3.609799e+01 -9.241772e+01   \n",
              "75%    2.000000e+00  4.016024e+01 -8.037243e+01  4.016105e+01 -8.037338e+01   \n",
              "max    4.000000e+00  4.900058e+01 -6.711317e+01  4.907500e+01 -6.710924e+01   \n",
              "\n",
              "       Distance(mi)        Number  Temperature(F)  Wind_Chill(F)  \\\n",
              "count  2.845342e+06  1.101431e+06    2.776068e+06   2.375699e+06   \n",
              "mean   7.026779e-01  8.089408e+03    6.179356e+01   5.965823e+01   \n",
              "std    1.560361e+00  1.836009e+04    1.862263e+01   2.116097e+01   \n",
              "min    0.000000e+00  0.000000e+00   -8.900000e+01  -8.900000e+01   \n",
              "25%    5.200000e-02  1.270000e+03    5.000000e+01   4.600000e+01   \n",
              "50%    2.440000e-01  4.007000e+03    6.400000e+01   6.300000e+01   \n",
              "75%    7.640000e-01  9.567000e+03    7.600000e+01   7.600000e+01   \n",
              "max    1.551860e+02  9.999997e+06    1.960000e+02   1.960000e+02   \n",
              "\n",
              "        Humidity(%)  Pressure(in)  Visibility(mi)  Wind_Speed(mph)  \\\n",
              "count  2.772250e+06  2.786142e+06    2.774796e+06     2.687398e+06   \n",
              "mean   6.436545e+01  2.947234e+01    9.099391e+00     7.395044e+00   \n",
              "std    2.287457e+01  1.045286e+00    2.717546e+00     5.527454e+00   \n",
              "min    1.000000e+00  0.000000e+00    0.000000e+00     0.000000e+00   \n",
              "25%    4.800000e+01  2.931000e+01    1.000000e+01     3.500000e+00   \n",
              "50%    6.700000e+01  2.982000e+01    1.000000e+01     7.000000e+00   \n",
              "75%    8.300000e+01  3.001000e+01    1.000000e+01     1.000000e+01   \n",
              "max    1.000000e+02  5.890000e+01    1.400000e+02     1.087000e+03   \n",
              "\n",
              "       Precipitation(in)  \n",
              "count       2.295884e+06  \n",
              "mean        7.016940e-03  \n",
              "std         9.348831e-02  \n",
              "min         0.000000e+00  \n",
              "25%         0.000000e+00  \n",
              "50%         0.000000e+00  \n",
              "75%         0.000000e+00  \n",
              "max         2.400000e+01  "
            ],
            "text/html": [
              "\n",
              "  <div id=\"df-a145d33f-6944-4f71-980a-e87dd6c07b0f\">\n",
              "    <div class=\"colab-df-container\">\n",
              "      <div>\n",
              "<style scoped>\n",
              "    .dataframe tbody tr th:only-of-type {\n",
              "        vertical-align: middle;\n",
              "    }\n",
              "\n",
              "    .dataframe tbody tr th {\n",
              "        vertical-align: top;\n",
              "    }\n",
              "\n",
              "    .dataframe thead th {\n",
              "        text-align: right;\n",
              "    }\n",
              "</style>\n",
              "<table border=\"1\" class=\"dataframe\">\n",
              "  <thead>\n",
              "    <tr style=\"text-align: right;\">\n",
              "      <th></th>\n",
              "      <th>Severity</th>\n",
              "      <th>Start_Lat</th>\n",
              "      <th>Start_Lng</th>\n",
              "      <th>End_Lat</th>\n",
              "      <th>End_Lng</th>\n",
              "      <th>Distance(mi)</th>\n",
              "      <th>Number</th>\n",
              "      <th>Temperature(F)</th>\n",
              "      <th>Wind_Chill(F)</th>\n",
              "      <th>Humidity(%)</th>\n",
              "      <th>Pressure(in)</th>\n",
              "      <th>Visibility(mi)</th>\n",
              "      <th>Wind_Speed(mph)</th>\n",
              "      <th>Precipitation(in)</th>\n",
              "    </tr>\n",
              "  </thead>\n",
              "  <tbody>\n",
              "    <tr>\n",
              "      <th>count</th>\n",
              "      <td>2.845342e+06</td>\n",
              "      <td>2.845342e+06</td>\n",
              "      <td>2.845342e+06</td>\n",
              "      <td>2.845342e+06</td>\n",
              "      <td>2.845342e+06</td>\n",
              "      <td>2.845342e+06</td>\n",
              "      <td>1.101431e+06</td>\n",
              "      <td>2.776068e+06</td>\n",
              "      <td>2.375699e+06</td>\n",
              "      <td>2.772250e+06</td>\n",
              "      <td>2.786142e+06</td>\n",
              "      <td>2.774796e+06</td>\n",
              "      <td>2.687398e+06</td>\n",
              "      <td>2.295884e+06</td>\n",
              "    </tr>\n",
              "    <tr>\n",
              "      <th>mean</th>\n",
              "      <td>2.137572e+00</td>\n",
              "      <td>3.624520e+01</td>\n",
              "      <td>-9.711463e+01</td>\n",
              "      <td>3.624532e+01</td>\n",
              "      <td>-9.711439e+01</td>\n",
              "      <td>7.026779e-01</td>\n",
              "      <td>8.089408e+03</td>\n",
              "      <td>6.179356e+01</td>\n",
              "      <td>5.965823e+01</td>\n",
              "      <td>6.436545e+01</td>\n",
              "      <td>2.947234e+01</td>\n",
              "      <td>9.099391e+00</td>\n",
              "      <td>7.395044e+00</td>\n",
              "      <td>7.016940e-03</td>\n",
              "    </tr>\n",
              "    <tr>\n",
              "      <th>std</th>\n",
              "      <td>4.787216e-01</td>\n",
              "      <td>5.363797e+00</td>\n",
              "      <td>1.831782e+01</td>\n",
              "      <td>5.363873e+00</td>\n",
              "      <td>1.831763e+01</td>\n",
              "      <td>1.560361e+00</td>\n",
              "      <td>1.836009e+04</td>\n",
              "      <td>1.862263e+01</td>\n",
              "      <td>2.116097e+01</td>\n",
              "      <td>2.287457e+01</td>\n",
              "      <td>1.045286e+00</td>\n",
              "      <td>2.717546e+00</td>\n",
              "      <td>5.527454e+00</td>\n",
              "      <td>9.348831e-02</td>\n",
              "    </tr>\n",
              "    <tr>\n",
              "      <th>min</th>\n",
              "      <td>1.000000e+00</td>\n",
              "      <td>2.456603e+01</td>\n",
              "      <td>-1.245481e+02</td>\n",
              "      <td>2.456601e+01</td>\n",
              "      <td>-1.245457e+02</td>\n",
              "      <td>0.000000e+00</td>\n",
              "      <td>0.000000e+00</td>\n",
              "      <td>-8.900000e+01</td>\n",
              "      <td>-8.900000e+01</td>\n",
              "      <td>1.000000e+00</td>\n",
              "      <td>0.000000e+00</td>\n",
              "      <td>0.000000e+00</td>\n",
              "      <td>0.000000e+00</td>\n",
              "      <td>0.000000e+00</td>\n",
              "    </tr>\n",
              "    <tr>\n",
              "      <th>25%</th>\n",
              "      <td>2.000000e+00</td>\n",
              "      <td>3.344517e+01</td>\n",
              "      <td>-1.180331e+02</td>\n",
              "      <td>3.344628e+01</td>\n",
              "      <td>-1.180333e+02</td>\n",
              "      <td>5.200000e-02</td>\n",
              "      <td>1.270000e+03</td>\n",
              "      <td>5.000000e+01</td>\n",
              "      <td>4.600000e+01</td>\n",
              "      <td>4.800000e+01</td>\n",
              "      <td>2.931000e+01</td>\n",
              "      <td>1.000000e+01</td>\n",
              "      <td>3.500000e+00</td>\n",
              "      <td>0.000000e+00</td>\n",
              "    </tr>\n",
              "    <tr>\n",
              "      <th>50%</th>\n",
              "      <td>2.000000e+00</td>\n",
              "      <td>3.609861e+01</td>\n",
              "      <td>-9.241808e+01</td>\n",
              "      <td>3.609799e+01</td>\n",
              "      <td>-9.241772e+01</td>\n",
              "      <td>2.440000e-01</td>\n",
              "      <td>4.007000e+03</td>\n",
              "      <td>6.400000e+01</td>\n",
              "      <td>6.300000e+01</td>\n",
              "      <td>6.700000e+01</td>\n",
              "      <td>2.982000e+01</td>\n",
              "      <td>1.000000e+01</td>\n",
              "      <td>7.000000e+00</td>\n",
              "      <td>0.000000e+00</td>\n",
              "    </tr>\n",
              "    <tr>\n",
              "      <th>75%</th>\n",
              "      <td>2.000000e+00</td>\n",
              "      <td>4.016024e+01</td>\n",
              "      <td>-8.037243e+01</td>\n",
              "      <td>4.016105e+01</td>\n",
              "      <td>-8.037338e+01</td>\n",
              "      <td>7.640000e-01</td>\n",
              "      <td>9.567000e+03</td>\n",
              "      <td>7.600000e+01</td>\n",
              "      <td>7.600000e+01</td>\n",
              "      <td>8.300000e+01</td>\n",
              "      <td>3.001000e+01</td>\n",
              "      <td>1.000000e+01</td>\n",
              "      <td>1.000000e+01</td>\n",
              "      <td>0.000000e+00</td>\n",
              "    </tr>\n",
              "    <tr>\n",
              "      <th>max</th>\n",
              "      <td>4.000000e+00</td>\n",
              "      <td>4.900058e+01</td>\n",
              "      <td>-6.711317e+01</td>\n",
              "      <td>4.907500e+01</td>\n",
              "      <td>-6.710924e+01</td>\n",
              "      <td>1.551860e+02</td>\n",
              "      <td>9.999997e+06</td>\n",
              "      <td>1.960000e+02</td>\n",
              "      <td>1.960000e+02</td>\n",
              "      <td>1.000000e+02</td>\n",
              "      <td>5.890000e+01</td>\n",
              "      <td>1.400000e+02</td>\n",
              "      <td>1.087000e+03</td>\n",
              "      <td>2.400000e+01</td>\n",
              "    </tr>\n",
              "  </tbody>\n",
              "</table>\n",
              "</div>\n",
              "      <button class=\"colab-df-convert\" onclick=\"convertToInteractive('df-a145d33f-6944-4f71-980a-e87dd6c07b0f')\"\n",
              "              title=\"Convert this dataframe to an interactive table.\"\n",
              "              style=\"display:none;\">\n",
              "        \n",
              "  <svg xmlns=\"http://www.w3.org/2000/svg\" height=\"24px\"viewBox=\"0 0 24 24\"\n",
              "       width=\"24px\">\n",
              "    <path d=\"M0 0h24v24H0V0z\" fill=\"none\"/>\n",
              "    <path d=\"M18.56 5.44l.94 2.06.94-2.06 2.06-.94-2.06-.94-.94-2.06-.94 2.06-2.06.94zm-11 1L8.5 8.5l.94-2.06 2.06-.94-2.06-.94L8.5 2.5l-.94 2.06-2.06.94zm10 10l.94 2.06.94-2.06 2.06-.94-2.06-.94-.94-2.06-.94 2.06-2.06.94z\"/><path d=\"M17.41 7.96l-1.37-1.37c-.4-.4-.92-.59-1.43-.59-.52 0-1.04.2-1.43.59L10.3 9.45l-7.72 7.72c-.78.78-.78 2.05 0 2.83L4 21.41c.39.39.9.59 1.41.59.51 0 1.02-.2 1.41-.59l7.78-7.78 2.81-2.81c.8-.78.8-2.07 0-2.86zM5.41 20L4 18.59l7.72-7.72 1.47 1.35L5.41 20z\"/>\n",
              "  </svg>\n",
              "      </button>\n",
              "      \n",
              "  <style>\n",
              "    .colab-df-container {\n",
              "      display:flex;\n",
              "      flex-wrap:wrap;\n",
              "      gap: 12px;\n",
              "    }\n",
              "\n",
              "    .colab-df-convert {\n",
              "      background-color: #E8F0FE;\n",
              "      border: none;\n",
              "      border-radius: 50%;\n",
              "      cursor: pointer;\n",
              "      display: none;\n",
              "      fill: #1967D2;\n",
              "      height: 32px;\n",
              "      padding: 0 0 0 0;\n",
              "      width: 32px;\n",
              "    }\n",
              "\n",
              "    .colab-df-convert:hover {\n",
              "      background-color: #E2EBFA;\n",
              "      box-shadow: 0px 1px 2px rgba(60, 64, 67, 0.3), 0px 1px 3px 1px rgba(60, 64, 67, 0.15);\n",
              "      fill: #174EA6;\n",
              "    }\n",
              "\n",
              "    [theme=dark] .colab-df-convert {\n",
              "      background-color: #3B4455;\n",
              "      fill: #D2E3FC;\n",
              "    }\n",
              "\n",
              "    [theme=dark] .colab-df-convert:hover {\n",
              "      background-color: #434B5C;\n",
              "      box-shadow: 0px 1px 3px 1px rgba(0, 0, 0, 0.15);\n",
              "      filter: drop-shadow(0px 1px 2px rgba(0, 0, 0, 0.3));\n",
              "      fill: #FFFFFF;\n",
              "    }\n",
              "  </style>\n",
              "\n",
              "      <script>\n",
              "        const buttonEl =\n",
              "          document.querySelector('#df-a145d33f-6944-4f71-980a-e87dd6c07b0f button.colab-df-convert');\n",
              "        buttonEl.style.display =\n",
              "          google.colab.kernel.accessAllowed ? 'block' : 'none';\n",
              "\n",
              "        async function convertToInteractive(key) {\n",
              "          const element = document.querySelector('#df-a145d33f-6944-4f71-980a-e87dd6c07b0f');\n",
              "          const dataTable =\n",
              "            await google.colab.kernel.invokeFunction('convertToInteractive',\n",
              "                                                     [key], {});\n",
              "          if (!dataTable) return;\n",
              "\n",
              "          const docLinkHtml = 'Like what you see? Visit the ' +\n",
              "            '<a target=\"_blank\" href=https://colab.research.google.com/notebooks/data_table.ipynb>data table notebook</a>'\n",
              "            + ' to learn more about interactive tables.';\n",
              "          element.innerHTML = '';\n",
              "          dataTable['output_type'] = 'display_data';\n",
              "          await google.colab.output.renderOutput(dataTable, element);\n",
              "          const docLink = document.createElement('div');\n",
              "          docLink.innerHTML = docLinkHtml;\n",
              "          element.appendChild(docLink);\n",
              "        }\n",
              "      </script>\n",
              "    </div>\n",
              "  </div>\n",
              "  "
            ]
          },
          "metadata": {},
          "execution_count": 14
        }
      ]
    },
    {
      "cell_type": "code",
      "source": [
        "numerics = ['int16', 'int32', 'int64', 'float16', 'float32', 'float64']\n",
        "\n",
        "num_df = df.select_dtypes(include=numerics)\n",
        "\n",
        "len(num_df.columns)\n"
      ],
      "metadata": {
        "colab": {
          "base_uri": "https://localhost:8080/"
        },
        "id": "mzmpQDuh-ZLj",
        "outputId": "e8ab51c9-770f-40be-fab7-c436402b2463"
      },
      "execution_count": 15,
      "outputs": [
        {
          "output_type": "execute_result",
          "data": {
            "text/plain": [
              "14"
            ]
          },
          "metadata": {},
          "execution_count": 15
        }
      ]
    },
    {
      "cell_type": "code",
      "source": [
        "missing_data_percentage = df.isna().sum().sort_values(ascending=False)/len(df)\n",
        "missing_data_percentage"
      ],
      "metadata": {
        "colab": {
          "base_uri": "https://localhost:8080/"
        },
        "id": "c9b1X9X1-ZGf",
        "outputId": "c09fbbae-09b1-48cd-d271-b5119bf8ba13"
      },
      "execution_count": 16,
      "outputs": [
        {
          "output_type": "execute_result",
          "data": {
            "text/plain": [
              "Number                   6.129003e-01\n",
              "Precipitation(in)        1.931079e-01\n",
              "Wind_Chill(F)            1.650568e-01\n",
              "Wind_Speed(mph)          5.550967e-02\n",
              "Wind_Direction           2.592834e-02\n",
              "Humidity(%)              2.568830e-02\n",
              "Weather_Condition        2.482514e-02\n",
              "Visibility(mi)           2.479350e-02\n",
              "Temperature(F)           2.434646e-02\n",
              "Pressure(in)             2.080593e-02\n",
              "Weather_Timestamp        1.783125e-02\n",
              "Airport_Code             3.356011e-03\n",
              "Timezone                 1.285961e-03\n",
              "Nautical_Twilight        1.007612e-03\n",
              "Civil_Twilight           1.007612e-03\n",
              "Sunrise_Sunset           1.007612e-03\n",
              "Astronomical_Twilight    1.007612e-03\n",
              "Zipcode                  4.635647e-04\n",
              "City                     4.814887e-05\n",
              "Street                   7.029032e-07\n",
              "Country                  0.000000e+00\n",
              "Junction                 0.000000e+00\n",
              "Start_Time               0.000000e+00\n",
              "End_Time                 0.000000e+00\n",
              "Start_Lat                0.000000e+00\n",
              "Turning_Loop             0.000000e+00\n",
              "Traffic_Signal           0.000000e+00\n",
              "Traffic_Calming          0.000000e+00\n",
              "Stop                     0.000000e+00\n",
              "Station                  0.000000e+00\n",
              "Roundabout               0.000000e+00\n",
              "Railway                  0.000000e+00\n",
              "No_Exit                  0.000000e+00\n",
              "Crossing                 0.000000e+00\n",
              "Give_Way                 0.000000e+00\n",
              "Bump                     0.000000e+00\n",
              "Amenity                  0.000000e+00\n",
              "Start_Lng                0.000000e+00\n",
              "End_Lat                  0.000000e+00\n",
              "End_Lng                  0.000000e+00\n",
              "Distance(mi)             0.000000e+00\n",
              "Description              0.000000e+00\n",
              "Severity                 0.000000e+00\n",
              "Side                     0.000000e+00\n",
              "County                   0.000000e+00\n",
              "State                    0.000000e+00\n",
              "ID                       0.000000e+00\n",
              "dtype: float64"
            ]
          },
          "metadata": {},
          "execution_count": 16
        }
      ]
    },
    {
      "cell_type": "markdown",
      "source": [
        "Missing Data"
      ],
      "metadata": {
        "id": "uZBCzjwsKoWr"
      }
    },
    {
      "cell_type": "code",
      "source": [
        "missing_data_percentage[missing_data_percentage > 0.000039].plot(kind = 'barh')"
      ],
      "metadata": {
        "colab": {
          "base_uri": "https://localhost:8080/",
          "height": 282
        },
        "id": "3cOax3Cz-ZE5",
        "outputId": "0642407c-6cec-43b3-bf8f-6379410a2576"
      },
      "execution_count": 17,
      "outputs": [
        {
          "output_type": "execute_result",
          "data": {
            "text/plain": [
              "<matplotlib.axes._subplots.AxesSubplot at 0x7fcd5128aad0>"
            ]
          },
          "metadata": {},
          "execution_count": 17
        },
        {
          "output_type": "display_data",
          "data": {
            "text/plain": [
              "<Figure size 432x288 with 1 Axes>"
            ],
            "image/png": "[encoded data removed]"
          },
          "metadata": {
            "needs_background": "light"
          }
        }
      ]
    },
    {
      "cell_type": "markdown",
      "source": [
        "## Analysis and Visualization"
      ],
      "metadata": {
        "id": "uVppCllszsqL"
      }
    },
    {
      "cell_type": "code",
      "source": [
        "df.columns"
      ],
      "metadata": {
        "colab": {
          "base_uri": "https://localhost:8080/"
        },
        "id": "JwtbqJ_czr7h",
        "outputId": "932d7b3a-952c-4a20-ca99-bb08986884f4"
      },
      "execution_count": 18,
      "outputs": [
        {
          "output_type": "execute_result",
          "data": {
            "text/plain": [
              "Index(['ID', 'Severity', 'Start_Time', 'End_Time', 'Start_Lat', 'Start_Lng',\n",
              "       'End_Lat', 'End_Lng', 'Distance(mi)', 'Description', 'Number', 'Street',\n",
              "       'Side', 'City', 'County', 'State', 'Zipcode', 'Country', 'Timezone',\n",
              "       'Airport_Code', 'Weather_Timestamp', 'Temperature(F)', 'Wind_Chill(F)',\n",
              "       'Humidity(%)', 'Pressure(in)', 'Visibility(mi)', 'Wind_Direction',\n",
              "       'Wind_Speed(mph)', 'Precipitation(in)', 'Weather_Condition', 'Amenity',\n",
              "       'Bump', 'Crossing', 'Give_Way', 'Junction', 'No_Exit', 'Railway',\n",
              "       'Roundabout', 'Station', 'Stop', 'Traffic_Calming', 'Traffic_Signal',\n",
              "       'Turning_Loop', 'Sunrise_Sunset', 'Civil_Twilight', 'Nautical_Twilight',\n",
              "       'Astronomical_Twilight'],\n",
              "      dtype='object')"
            ]
          },
          "metadata": {},
          "execution_count": 18
        }
      ]
    },
    {
      "cell_type": "code",
      "source": [
        "cities = df.City.unique()\n",
        "cities[:100]"
      ],
      "metadata": {
        "colab": {
          "base_uri": "https://localhost:8080/"
        },
        "id": "Wk-7KepSzrtl",
        "outputId": "b3072baf-78b4-4d72-9908-c413cc5f2406"
      },
      "execution_count": 19,
      "outputs": [
        {
          "output_type": "execute_result",
          "data": {
            "text/plain": [
              "array(['Dublin', 'Dayton', 'Cincinnati', 'Akron', 'Williamsburg',\n",
              "       'Cleveland', 'Lima', 'Westerville', 'Jamestown', 'Freeport',\n",
              "       'Columbus', 'Toledo', 'Roanoke', 'Ft Mitchell', 'Edinburgh',\n",
              "       'Fairborn', 'Shelbyville', 'Greensburg', 'Saint Paul',\n",
              "       'Parkersburg', 'Indianapolis', 'Dundee', 'Jeffersonville',\n",
              "       'Pittsburgh', 'Lewis Center', 'Dunkirk', 'Redkey', 'Milton',\n",
              "       'Willshire', 'Straughn', 'Cambridge Springs', 'Fremont',\n",
              "       'Louisville', 'South Charleston', 'Edinboro', 'Buckhannon',\n",
              "       'Lockbourne', 'Painesville', 'Washington', 'Dunbar', 'Angola',\n",
              "       'Edon', 'Medina', 'De Mossville', 'New Albany', 'Charleston',\n",
              "       'Fort Wayne', 'Burnsville', 'Bedford', 'Clarksville', 'Lakewood',\n",
              "       'Richfield', 'Sewickley', 'Independence', 'Westlake', 'Erlanger',\n",
              "       'Grove City', 'Monroe', 'West Middlesex', 'Gaston', 'Economy',\n",
              "       'Fairmount', 'Hagerstown', 'Walton', 'Crittenden', 'Coraopolis',\n",
              "       'Holland', 'Greenfield', 'Anderson', 'Englewood', 'Knightstown',\n",
              "       'Bentleyville', 'Memphis', 'Henryville', 'Kendallville', 'Avilla',\n",
              "       'Ohio City', 'Van Wert', 'Rocky River', 'Sturgis', 'West Chester',\n",
              "       'Orient', 'Madison', 'Deputy', 'Keystone', 'Mercer', 'Bryant',\n",
              "       'Pennville', 'Kimbolton', 'Thornville', 'Wexford', 'Fishers',\n",
              "       'Noblesville', 'Macedonia', 'Youngstown', 'Fairdale', 'Sutton',\n",
              "       'Mount Sterling', 'Northwood', 'Huntington'], dtype=object)"
            ]
          },
          "metadata": {},
          "execution_count": 19
        }
      ]
    },
    {
      "cell_type": "code",
      "source": [
        "cities_by_accident = df.City.value_counts()\n",
        "cities_by_accident[:10]"
      ],
      "metadata": {
        "colab": {
          "base_uri": "https://localhost:8080/"
        },
        "id": "pNG9LZmqzrsA",
        "outputId": "7e460d7f-787b-456e-c89c-5902e714b6ed"
      },
      "execution_count": 20,
      "outputs": [
        {
          "output_type": "execute_result",
          "data": {
            "text/plain": [
              "Miami          106966\n",
              "Los Angeles     68956\n",
              "Orlando         54691\n",
              "Dallas          41979\n",
              "Houston         39448\n",
              "Charlotte       33152\n",
              "Sacramento      32559\n",
              "San Diego       26627\n",
              "Raleigh         22840\n",
              "Minneapolis     22768\n",
              "Name: City, dtype: int64"
            ]
          },
          "metadata": {},
          "execution_count": 20
        }
      ]
    },
    {
      "cell_type": "code",
      "source": [
        "cities_by_accident[:20].plot(kind = 'barh')"
      ],
      "metadata": {
        "colab": {
          "base_uri": "https://localhost:8080/",
          "height": 282
        },
        "id": "8pWsnE8RPo59",
        "outputId": "6747fa39-568f-4c9c-9bd4-461e660b9483"
      },
      "execution_count": 21,
      "outputs": [
        {
          "output_type": "execute_result",
          "data": {
            "text/plain": [
              "<matplotlib.axes._subplots.AxesSubplot at 0x7fcd563d2f50>"
            ]
          },
          "metadata": {},
          "execution_count": 21
        },
        {
          "output_type": "display_data",
          "data": {
            "text/plain": [
              "<Figure size 432x288 with 1 Axes>"
            ],
            "image/png": "[encoded data removed]"
          },
          "metadata": {
            "needs_background": "light"
          }
        }
      ]
    },
    {
      "cell_type": "code",
      "source": [
        "import seaborn as sns"
      ],
      "metadata": {
        "id": "k0vyXYVmPo3X"
      },
      "execution_count": 22,
      "outputs": []
    },
    {
      "cell_type": "code",
      "source": [
        "sns.histplot(cities_by_accident, log_scale =True)"
      ],
      "metadata": {
        "colab": {
          "base_uri": "https://localhost:8080/",
          "height": 300
        },
        "id": "6Wtgqom6WgOS",
        "outputId": "3fd2e8e6-814c-4bd8-d0b9-8ecfb242f944"
      },
      "execution_count": 23,
      "outputs": [
        {
          "output_type": "execute_result",
          "data": {
            "text/plain": [
              "<matplotlib.axes._subplots.AxesSubplot at 0x7fcd373a3890>"
            ]
          },
          "metadata": {},
          "execution_count": 23
        },
        {
          "output_type": "display_data",
          "data": {
            "text/plain": [
              "<Figure size 432x288 with 1 Axes>"
            ],
            "image/png": "[encoded data removed]"
          },
          "metadata": {
            "needs_background": "light"
          }
        }
      ]
    },
    {
      "cell_type": "code",
      "source": [
        "cities_by_accident[cities_by_accident == 1]"
      ],
      "metadata": {
        "id": "2R5EcraXWgK3",
        "colab": {
          "base_uri": "https://localhost:8080/"
        },
        "outputId": "64bca5d8-3b63-480e-a09d-dc78e1e77f66"
      },
      "execution_count": 24,
      "outputs": [
        {
          "output_type": "execute_result",
          "data": {
            "text/plain": [
              "Carney                          1\n",
              "Waverly Hall                    1\n",
              "Center Sandwich                 1\n",
              "Glen Flora                      1\n",
              "Sulphur Springs                 1\n",
              "                               ..\n",
              "Ridgedale                       1\n",
              "Sekiu                           1\n",
              "Wooldridge                      1\n",
              "Bullock                         1\n",
              "American Fork-Pleasant Grove    1\n",
              "Name: City, Length: 1110, dtype: int64"
            ]
          },
          "metadata": {},
          "execution_count": 24
        }
      ]
    },
    {
      "cell_type": "markdown",
      "source": [
        "### Start Time"
      ],
      "metadata": {
        "id": "PNkksEHDth46"
      }
    },
    {
      "cell_type": "code",
      "source": [
        "df.Start_Time"
      ],
      "metadata": {
        "id": "jF8p5nAIWgJV",
        "colab": {
          "base_uri": "https://localhost:8080/"
        },
        "outputId": "4816af58-5848-4338-aa82-88eaf3e4f2fd"
      },
      "execution_count": 28,
      "outputs": [
        {
          "output_type": "execute_result",
          "data": {
            "text/plain": [
              "0          2016-02-08 00:37:08\n",
              "1          2016-02-08 05:56:20\n",
              "2          2016-02-08 06:15:39\n",
              "3          2016-02-08 06:51:45\n",
              "4          2016-02-08 07:53:43\n",
              "                  ...         \n",
              "2845337    2019-08-23 18:03:25\n",
              "2845338    2019-08-23 19:11:30\n",
              "2845339    2019-08-23 19:00:21\n",
              "2845340    2019-08-23 19:00:21\n",
              "2845341    2019-08-23 18:52:06\n",
              "Name: Start_Time, Length: 2845342, dtype: object"
            ]
          },
          "metadata": {},
          "execution_count": 28
        }
      ]
    },
    {
      "cell_type": "code",
      "source": [
        "df.Start_Time = pd.to_datetime(df.Start_Time)"
      ],
      "metadata": {
        "id": "nBMJutDOFJVT"
      },
      "execution_count": 29,
      "outputs": []
    },
    {
      "cell_type": "code",
      "source": [
        "sns.distplot(df.Start_Time.dt.hour, bins=24, kde=False, norm_hist=True)"
      ],
      "metadata": {
        "id": "DjKK9-AMFJRp",
        "colab": {
          "base_uri": "https://localhost:8080/",
          "height": 352
        },
        "outputId": "52eacfa0-ddd5-42a9-ca26-b98ac437b46e"
      },
      "execution_count": 33,
      "outputs": [
        {
          "output_type": "stream",
          "name": "stderr",
          "text": [
            "/usr/local/lib/python3.7/dist-packages/seaborn/distributions.py:2619: FutureWarning: `distplot` is a deprecated function and will be removed in a future version. Please adapt your code to use either `displot` (a figure-level function with similar flexibility) or `histplot` (an axes-level function for histograms).\n",
            "  warnings.warn(msg, FutureWarning)\n"
          ]
        },
        {
          "output_type": "execute_result",
          "data": {
            "text/plain": [
              "<matplotlib.axes._subplots.AxesSubplot at 0x7fcd36b74b50>"
            ]
          },
          "metadata": {},
          "execution_count": 33
        },
        {
          "output_type": "display_data",
          "data": {
            "text/plain": [
              "<Figure size 432x288 with 1 Axes>"
            ],
            "image/png": "[encoded data removed]"
          },
          "metadata": {
            "needs_background": "light"
          }
        }
      ]
    },
    {
      "cell_type": "markdown",
      "source": [
        "- A high percentage of accidents occur between 6 am to 10 am (probably people in a hurry to get to work)\n",
        "- Next higest percentage is 3 pm to 6 pm."
      ],
      "metadata": {
        "id": "9VpEoSLMt_Zq"
      }
    },
    {
      "cell_type": "code",
      "source": [
        "sns.distplot(df.Start_Time.dt.dayofweek, bins=7, kde=False, norm_hist=True)"
      ],
      "metadata": {
        "id": "9yJsTjohFJP9",
        "colab": {
          "base_uri": "https://localhost:8080/",
          "height": 352
        },
        "outputId": "6f0788b2-aaf9-4789-cc57-5d375a0c1327"
      },
      "execution_count": 36,
      "outputs": [
        {
          "output_type": "stream",
          "name": "stderr",
          "text": [
            "/usr/local/lib/python3.7/dist-packages/seaborn/distributions.py:2619: FutureWarning: `distplot` is a deprecated function and will be removed in a future version. Please adapt your code to use either `displot` (a figure-level function with similar flexibility) or `histplot` (an axes-level function for histograms).\n",
            "  warnings.warn(msg, FutureWarning)\n"
          ]
        },
        {
          "output_type": "execute_result",
          "data": {
            "text/plain": [
              "<matplotlib.axes._subplots.AxesSubplot at 0x7fcd36ae1750>"
            ]
          },
          "metadata": {},
          "execution_count": 36
        },
        {
          "output_type": "display_data",
          "data": {
            "text/plain": [
              "<Figure size 432x288 with 1 Axes>"
            ],
            "image/png": "[encoded data removed]"
          },
          "metadata": {
            "needs_background": "light"
          }
        }
      ]
    },
    {
      "cell_type": "markdown",
      "source": [
        "Is the distribution of accidents by hour the same on weekends as on weekdays."
      ],
      "metadata": {
        "id": "g3hCeqi3uR-a"
      }
    },
    {
      "cell_type": "code",
      "source": [
        "sundays_start_time = df.Start_Time[df.Start_Time.dt.dayofweek == 6]\n",
        "sns.distplot(sundays_start_time.dt.hour, bins=24, kde=False, norm_hist=True)"
      ],
      "metadata": {
        "colab": {
          "base_uri": "https://localhost:8080/",
          "height": 352
        },
        "id": "x5BtF9nXuRxo",
        "outputId": "07d638a0-c47c-4694-f71a-bb25d040ba8d"
      },
      "execution_count": 37,
      "outputs": [
        {
          "output_type": "stream",
          "name": "stderr",
          "text": [
            "/usr/local/lib/python3.7/dist-packages/seaborn/distributions.py:2619: FutureWarning: `distplot` is a deprecated function and will be removed in a future version. Please adapt your code to use either `displot` (a figure-level function with similar flexibility) or `histplot` (an axes-level function for histograms).\n",
            "  warnings.warn(msg, FutureWarning)\n"
          ]
        },
        {
          "output_type": "execute_result",
          "data": {
            "text/plain": [
              "<matplotlib.axes._subplots.AxesSubplot at 0x7fcd340f83d0>"
            ]
          },
          "metadata": {},
          "execution_count": 37
        },
        {
          "output_type": "display_data",
          "data": {
            "text/plain": [
              "<Figure size 432x288 with 1 Axes>"
            ],
            "image/png": "[encoded data removed]"
          },
          "metadata": {
            "needs_background": "light"
          }
        }
      ]
    },
    {
      "cell_type": "code",
      "source": [
        "monday_start_time = df.Start_Time[df.Start_Time.dt.dayofweek == 0]\n",
        "sns.distplot(monday_start_time.dt.hour, bins=24, kde=False, norm_hist=True)"
      ],
      "metadata": {
        "colab": {
          "base_uri": "https://localhost:8080/",
          "height": 352
        },
        "id": "Vh1D9XICuRwB",
        "outputId": "48e7a5dc-0c59-4742-b67a-05fa9ad4f2a0"
      },
      "execution_count": 38,
      "outputs": [
        {
          "output_type": "stream",
          "name": "stderr",
          "text": [
            "/usr/local/lib/python3.7/dist-packages/seaborn/distributions.py:2619: FutureWarning: `distplot` is a deprecated function and will be removed in a future version. Please adapt your code to use either `displot` (a figure-level function with similar flexibility) or `histplot` (an axes-level function for histograms).\n",
            "  warnings.warn(msg, FutureWarning)\n"
          ]
        },
        {
          "output_type": "execute_result",
          "data": {
            "text/plain": [
              "<matplotlib.axes._subplots.AxesSubplot at 0x7fcd340371d0>"
            ]
          },
          "metadata": {},
          "execution_count": 38
        },
        {
          "output_type": "display_data",
          "data": {
            "text/plain": [
              "<Figure size 432x288 with 1 Axes>"
            ],
            "image/png": "[encoded data removed]"
          },
          "metadata": {
            "needs_background": "light"
          }
        }
      ]
    },
    {
      "cell_type": "markdown",
      "source": [
        "On Sundays, the peak occurs between 10 am and 3 pm, unlike weekdays"
      ],
      "metadata": {
        "id": "kbzMTbDQubxY"
      }
    },
    {
      "cell_type": "markdown",
      "source": [
        "### Start Latitude & Longitude"
      ],
      "metadata": {
        "id": "JtGqwrWdwGG2"
      }
    },
    {
      "cell_type": "code",
      "source": [
        "df.Start_Lat"
      ],
      "metadata": {
        "colab": {
          "base_uri": "https://localhost:8080/"
        },
        "id": "eY97OVgpwEbS",
        "outputId": "765d112d-2cb3-4408-cace-af581bb00b34"
      },
      "execution_count": 44,
      "outputs": [
        {
          "output_type": "execute_result",
          "data": {
            "text/plain": [
              "0          40.108910\n",
              "1          39.865420\n",
              "2          39.102660\n",
              "3          41.062130\n",
              "4          39.172393\n",
              "             ...    \n",
              "2845337    34.002480\n",
              "2845338    32.766960\n",
              "2845339    33.775450\n",
              "2845340    33.992460\n",
              "2845341    34.133930\n",
              "Name: Start_Lat, Length: 2845342, dtype: float64"
            ]
          },
          "metadata": {},
          "execution_count": 44
        }
      ]
    },
    {
      "cell_type": "code",
      "source": [
        "df.Start_Lng"
      ],
      "metadata": {
        "colab": {
          "base_uri": "https://localhost:8080/"
        },
        "id": "uzk5fUpnuRq2",
        "outputId": "d76cedf4-bf93-4d83-8074-6ad138059f4c"
      },
      "execution_count": 45,
      "outputs": [
        {
          "output_type": "execute_result",
          "data": {
            "text/plain": [
              "0          -83.092860\n",
              "1          -84.062800\n",
              "2          -84.524680\n",
              "3          -81.537840\n",
              "4          -84.492792\n",
              "              ...    \n",
              "2845337   -117.379360\n",
              "2845338   -117.148060\n",
              "2845339   -117.847790\n",
              "2845340   -118.403020\n",
              "2845341   -117.230920\n",
              "Name: Start_Lng, Length: 2845342, dtype: float64"
            ]
          },
          "metadata": {},
          "execution_count": 45
        }
      ]
    },
    {
      "cell_type": "code",
      "source": [
        "sample_df = df.sample(int(0.1 * len(df)))"
      ],
      "metadata": {
        "id": "yh6ykRT1uRmR"
      },
      "execution_count": 46,
      "outputs": []
    },
    {
      "cell_type": "code",
      "source": [
        "sns.scatterplot(x=sample_df.Start_Lng, y=sample_df.Start_Lat, size=0.001)"
      ],
      "metadata": {
        "colab": {
          "base_uri": "https://localhost:8080/",
          "height": 300
        },
        "id": "b6MGBHoJuRdJ",
        "outputId": "a34caeee-1aea-49d0-c315-f5b66f5c421d"
      },
      "execution_count": 47,
      "outputs": [
        {
          "output_type": "execute_result",
          "data": {
            "text/plain": [
              "<matplotlib.axes._subplots.AxesSubplot at 0x7fcd33fc2d90>"
            ]
          },
          "metadata": {},
          "execution_count": 47
        },
        {
          "output_type": "display_data",
          "data": {
            "text/plain": [
              "<Figure size 432x288 with 1 Axes>"
            ],
            "image/png": "[encoded data removed]"
          },
          "metadata": {
            "needs_background": "light"
          }
        }
      ]
    },
    {
      "cell_type": "code",
      "source": [
        "import folium"
      ],
      "metadata": {
        "id": "GiB_-f63uRba"
      },
      "execution_count": 48,
      "outputs": []
    },
    {
      "cell_type": "code",
      "source": [
        "lat, lon = df.Start_Lat[0], df.Start_Lng[0]\n",
        "lat, lon"
      ],
      "metadata": {
        "colab": {
          "base_uri": "https://localhost:8080/"
        },
        "id": "D7QswEQ6wVAv",
        "outputId": "5bdba381-bc44-407c-f885-a3d97b7f9a0c"
      },
      "execution_count": 49,
      "outputs": [
        {
          "output_type": "execute_result",
          "data": {
            "text/plain": [
              "(40.10891, -83.09286)"
            ]
          },
          "metadata": {},
          "execution_count": 49
        }
      ]
    },
    {
      "cell_type": "code",
      "source": [
        "for x in df[['Start_Lat', 'Start_Lng']].sample(100).iteritems():\n",
        "    print(x[1])"
      ],
      "metadata": {
        "colab": {
          "base_uri": "https://localhost:8080/"
        },
        "id": "pjrueLyPwWnj",
        "outputId": "324093e4-a52b-4f8c-e7ed-bfc0058a2e4e"
      },
      "execution_count": 50,
      "outputs": [
        {
          "output_type": "stream",
          "name": "stdout",
          "text": [
            "1067649    43.196779\n",
            "2216527    32.694957\n",
            "1465017    34.602651\n",
            "839030     35.210348\n",
            "1403607    29.918219\n",
            "             ...    \n",
            "172037     45.288820\n",
            "2717481    41.455920\n",
            "77494      42.415160\n",
            "1426333    25.766794\n",
            "171377     42.042593\n",
            "Name: Start_Lat, Length: 100, dtype: float64\n",
            "1067649    -77.632161\n",
            "2216527   -117.133862\n",
            "1465017   -118.555617\n",
            "839030     -80.758211\n",
            "1403607    -90.097686\n",
            "              ...    \n",
            "172037     -93.756820\n",
            "2717481    -72.839020\n",
            "77494      -88.092120\n",
            "1426333    -80.368796\n",
            "171377     -93.569580\n",
            "Name: Start_Lng, Length: 100, dtype: float64\n"
          ]
        }
      ]
    },
    {
      "cell_type": "code",
      "source": [
        "zip(list(df.Start_Lat), list(df.Start_Lng))"
      ],
      "metadata": {
        "colab": {
          "base_uri": "https://localhost:8080/"
        },
        "id": "GBOxvKaEwWju",
        "outputId": "ecd709b2-abf9-4bfb-c384-d49e14a95680"
      },
      "execution_count": 51,
      "outputs": [
        {
          "output_type": "execute_result",
          "data": {
            "text/plain": [
              "<zip at 0x7fcd327a7230>"
            ]
          },
          "metadata": {},
          "execution_count": 51
        }
      ]
    },
    {
      "cell_type": "code",
      "source": [
        "from folium.plugins import HeatMap"
      ],
      "metadata": {
        "id": "89ymZuluwWiL"
      },
      "execution_count": 52,
      "outputs": []
    },
    {
      "cell_type": "code",
      "source": [
        "sample_df = df.sample(int(0.001 * len(df)))\n",
        "lat_lon_pairs = list(zip(list(sample_df.Start_Lat), list(sample_df.Start_Lng)))"
      ],
      "metadata": {
        "id": "OYeCHjOhwWf6"
      },
      "execution_count": 53,
      "outputs": []
    },
    {
      "cell_type": "code",
      "source": [
        "map = folium.Map()\n",
        "HeatMap(lat_lon_pairs).add_to(map)\n",
        "map"
      ],
      "metadata": {
        "colab": {
          "base_uri": "https://localhost:8080/",
          "height": 685
        },
        "id": "v26q0FjNwWd0",
        "outputId": "10d7ac9d-6449-4b8a-f74e-43eae4b6a2ba"
      },
      "execution_count": 54,
      "outputs": [
        {
          "output_type": "execute_result",
          "data": {
            "text/plain": [
              "<folium.folium.Map at 0x7fcd26dbe2d0>"
            ],
            "text/html": [
              "<div style=\"width:100%;\"><div style=\"position:relative;width:100%;height:0;padding-bottom:60%;\"><span style=\"color:#565656\">Make this Notebook Trusted to load map: File -> Trust Notebook</span><iframe srcdoc=\"&lt;!DOCTYPE html&gt;\n",
              "&lt;head&gt;    \n",
              "    &lt;meta http-equiv=&quot;content-type&quot; content=&quot;text/html; charset=UTF-8&quot; /&gt;\n",
              "    &lt;script&gt;L_PREFER_CANVAS=false; L_NO_TOUCH=false; L_DISABLE_3D=false;&lt;/script&gt;\n",
              "    &lt;script src=&quot;https://cdn.jsdelivr.net/npm/leaflet@1.4.0/dist/leaflet.js&quot;&gt;&lt;/script&gt;\n",
              "    &lt;script src=&quot;https://code.jquery.com/jquery-1.12.4.min.js&quot;&gt;&lt;/script&gt;\n",
              "    &lt;script src=&quot;https://maxcdn.bootstrapcdn.com/bootstrap/3.2.0/js/bootstrap.min.js&quot;&gt;&lt;/script&gt;\n",
              "    &lt;script src=&quot;https://cdnjs.cloudflare.com/ajax/libs/Leaflet.awesome-markers/2.0.2/leaflet.awesome-markers.js&quot;&gt;&lt;/script&gt;\n",
              "    &lt;link rel=&quot;stylesheet&quot; href=&quot;https://cdn.jsdelivr.net/npm/leaflet@1.4.0/dist/leaflet.css&quot;/&gt;\n",
              "    &lt;link rel=&quot;stylesheet&quot; href=&quot;https://maxcdn.bootstrapcdn.com/bootstrap/3.2.0/css/bootstrap.min.css&quot;/&gt;\n",
              "    &lt;link rel=&quot;stylesheet&quot; href=&quot;https://maxcdn.bootstrapcdn.com/bootstrap/3.2.0/css/bootstrap-theme.min.css&quot;/&gt;\n",
              "    &lt;link rel=&quot;stylesheet&quot; href=&quot;https://maxcdn.bootstrapcdn.com/font-awesome/4.6.3/css/font-awesome.min.css&quot;/&gt;\n",
              "    &lt;link rel=&quot;stylesheet&quot; href=&quot;https://cdnjs.cloudflare.com/ajax/libs/Leaflet.awesome-markers/2.0.2/leaflet.awesome-markers.css&quot;/&gt;\n",
              "    &lt;link rel=&quot;stylesheet&quot; href=&quot;https://rawcdn.githack.com/python-visualization/folium/master/folium/templates/leaflet.awesome.rotate.css&quot;/&gt;\n",
              "    &lt;style&gt;html, body {width: 100%;height: 100%;margin: 0;padding: 0;}&lt;/style&gt;\n",
              "    &lt;style&gt;#map {position:absolute;top:0;bottom:0;right:0;left:0;}&lt;/style&gt;\n",
              "    \n",
              "    &lt;meta name=&quot;viewport&quot; content=&quot;width=device-width,\n",
              "        initial-scale=1.0, maximum-scale=1.0, user-scalable=no&quot; /&gt;\n",
              "    &lt;style&gt;#map_f5c39478658acb81bda9d9001b00e758 {\n",
              "        position: relative;\n",
              "        width: 100.0%;\n",
              "        height: 100.0%;\n",
              "        left: 0.0%;\n",
              "        top: 0.0%;\n",
              "        }\n",
              "    &lt;/style&gt;\n",
              "    &lt;script src=&quot;https://leaflet.github.io/Leaflet.heat/dist/leaflet-heat.js&quot;&gt;&lt;/script&gt;\n",
              "&lt;/head&gt;\n",
              "&lt;body&gt;    \n",
              "    \n",
              "    &lt;div class=&quot;folium-map&quot; id=&quot;map_f5c39478658acb81bda9d9001b00e758&quot; &gt;&lt;/div&gt;\n",
              "&lt;/body&gt;\n",
              "&lt;script&gt;    \n",
              "    \n",
              "    \n",
              "        var bounds = null;\n",
              "    \n",
              "\n",
              "    var map_f5c39478658acb81bda9d9001b00e758 = L.map(\n",
              "        &#x27;map_f5c39478658acb81bda9d9001b00e758&#x27;, {\n",
              "        center: [0, 0],\n",
              "        zoom: 1,\n",
              "        maxBounds: bounds,\n",
              "        layers: [],\n",
              "        worldCopyJump: false,\n",
              "        crs: L.CRS.EPSG3857,\n",
              "        zoomControl: true,\n",
              "        });\n",
              "\n",
              "\n",
              "    \n",
              "    var tile_layer_cc3e4e24fcbeef5c610bb0d9581c63b3 = L.tileLayer(\n",
              "        &#x27;https://{s}.tile.openstreetmap.org/{z}/{x}/{y}.png&#x27;,\n",
              "        {\n",
              "        &quot;attribution&quot;: null,\n",
              "        &quot;detectRetina&quot;: false,\n",
              "        &quot;maxNativeZoom&quot;: 18,\n",
              "        &quot;maxZoom&quot;: 18,\n",
              "        &quot;minZoom&quot;: 0,\n",
              "        &quot;noWrap&quot;: false,\n",
              "        &quot;opacity&quot;: 1,\n",
              "        &quot;subdomains&quot;: &quot;abc&quot;,\n",
              "        &quot;tms&quot;: false\n",
              "}).addTo(map_f5c39478658acb81bda9d9001b00e758);\n",
              "    \n",
              "            var heat_map_671cf8d3368808370bee29fbea742b74 = L.heatLayer(\n",
              "                [[32.668136, -96.864405], [34.065096999999994, -118.000782], [26.27298900000001, -81.689422], [27.489606, -81.483273], [33.617667, -84.39836600000002], [43.981936, -117.246813], [33.866401, -117.717269], [32.796979, -96.793117], [38.658699, -121.049226], [45.55522, -122.56672], [32.886661, -97.099345], [37.746974, -122.404571], [44.15497, -91.80746], [42.32644000000001, -83.63478], [37.471654, -122.273003], [38.55405, -90.2625], [37.794267, -120.984913], [42.45892, -83.21968000000003], [33.58367, -117.09943], [36.036743, -86.973602], [45.697835, -120.82466399999998], [41.197456, -73.121023], [40.335156, -121.920336], [34.028657, -118.203715], [34.14685, -117.48295], [33.916207, -118.239], [34.417328000000005, -118.440455], [42.804754, -71.498979], [28.514974, -81.310224], [33.509231, -112.058321], [27.99561, -82.3585], [40.65406, -74.00782], [39.018683, -77.145452], [37.056595, -120.969182], [34.02024, -118.18843], [40.79871, -74.18989], [39.979963, -76.75233], [43.66101, -95.93319], [37.571815, -122.26426], [26.107863, -80.25029], [28.40593, -81.40454], [45.13059000000001, -93.4883], [45.066832, -93.240968], [34.017433000000004, -118.422782], [25.669746, -80.421066], [36.985644, -121.981664], [36.325145, -117.944959], [33.874076, -117.88028], [26.591523, -81.69165600000002], [30.721346, -88.036118], [34.135126, -117.96122], [38.514889, -122.768379], [32.05072, -81.09445], [34.101317, -86.11269200000002], [43.027986, -78.978577], [25.848086, -80.36671700000002], [42.161387, -123.647171], [32.367385, -86.142629], [42.495921, -83.365212], [39.610701, -77.799886], [41.129668, -78.70921899999998], [45.495306, -122.88119], [33.84044, -84.0325], [40.963636, -80.304462], [28.37102, -80.80193], [29.832493, -95.531563], [27.441461, -82.459079], [38.6429, -121.379987], [33.48053, -112.169], [38.18981, -85.77113], [41.39012, -88.19296], [32.43466, -93.70786], [41.068765, -73.769285], [45.34814, -121.96327], [37.797568, -121.179915], [41.39803, -73.06998], [35.23281400000001, -80.807964], [25.811598, -80.138919], [41.91255, -87.66596], [42.96304, -85.66016], [28.50417, -81.24502], [38.460913, -121.495066], [25.455114, -80.49243], [30.341242, -97.802596], [38.148576, -121.261414], [33.740779, -117.79856], [33.52919, -111.88536], [39.96857, -78.8733], [45.28308, -96.031783], [36.750362, -119.790549], [40.63564, -74.29434], [35.769585, -78.725913], [36.130998, -119.169787], [34.468005, -114.339405], [37.503086, -77.555483], [41.10972, -73.40349], [36.297862, -121.261966], [30.277967, -82.812426], [42.49473, -88.44233], [33.78327, -84.6098], [32.833354, -80.643997], [41.42657, -87.32158000000004], [33.876742, -118.173504], [37.06825900000001, -119.180975], [30.320624, -81.692394], [41.233894, -74.6182], [26.06605, -80.21582], [40.10962, -79.38226], [33.41763, -111.89117], [37.56166, -122.27642], [34.145627000000005, -118.026302], [36.220031, -86.774774], [34.119133000000005, -117.840259], [40.613219, -74.02930500000002], [40.75169, -74.1876], [34.883361, -82.150302], [34.17208, -118.46751], [40.325177, -74.645544], [35.304016, -80.798507], [34.011579, -79.178713], [39.575623, -121.616841], [28.56232, -81.37853], [40.7641, -73.75849000000002], [45.75972, -122.878273], [34.501732000000004, -82.95607], [33.34894, -111.9804], [25.881242, -80.166567], [44.958575, -120.891848], [44.743492, -93.277414], [34.088762, -117.994247], [39.134835, -112.24133799999998], [38.078468, -122.231505], [33.691986, -84.402754], [29.729894, -95.457469], [33.91642, -118.268906], [29.328059000000003, -82.151589], [38.171942, -122.196117], [32.83692, -97.00521], [42.691777, -76.745421], [40.25464, -75.91328], [34.019539, -117.988035], [39.698485, -110.867774], [39.69639, -105.20713], [35.514947, -86.896716], [33.988584, -117.889323], [35.199837, -80.789501], [43.173515, -77.544714], [47.926558, -122.20317], [34.336527000000004, -79.983715], [33.932981, -118.34391], [25.648226, -80.332193], [37.552996, -77.443946], [42.71664000000001, -87.95379], [33.901896, -118.28934], [34.155752, -118.434841], [43.66829, -123.65267], [41.83483, -87.63033], [39.682, -84.22878], [40.48408, -74.4195], [33.91577, -118.18923999999998], [42.22667, -122.750942], [41.230707, -111.970234], [33.936761, -117.664706], [45.296094, -122.989314], [34.067969, -118.025827], [32.72163, -117.15478], [27.93773400000001, -82.234702], [33.742364, -84.391439], [38.893399, -76.954573], [37.600282, -122.061932], [39.79807, -105.777257], [34.047333, -81.102824], [38.9671, -121.020272], [40.81463, -74.052933], [45.28041, -122.76945], [34.02724, -118.457943], [43.620601, -122.070876], [32.17783, -110.97759], [44.052461, -123.100444], [34.868908000000005, -82.416427], [40.374273, -111.811498], [39.104773, -121.085354], [25.686176, -80.39388199999998], [25.760879, -80.418491], [40.77126, -73.56607], [34.36128, -118.50558], [44.880662, -122.998944], [33.864391, -118.326181], [35.28366, -80.763708], [38.428727, -122.715193], [39.714233, -75.586312], [38.680668, -121.333462], [38.54448, -106.89759], [32.22142, -110.8924], [35.759483, -78.574378], [39.66731, -75.6027], [32.930838, -80.045315], [34.074633, -84.618771], [34.843473, -82.421571], [45.4017, -91.909855], [33.68286, -117.87663], [45.18431, -122.80193], [25.76974, -80.332308], [40.1889, -121.53341100000002], [36.836447, -76.196129], [35.528673, -118.656665], [25.761869, -80.336213], [41.818696, -87.74344], [34.72917, -118.17009], [25.899438, -80.34496], [30.456486, -87.32471600000002], [29.756416, -95.364063], [34.069633, -118.261298], [40.67449000000001, -111.90447], [44.824981, -93.060915], [32.80436, -96.9216], [40.388057, -122.479696], [36.036604, -119.312684], [42.20224, -87.83431], [33.95669, -117.30653], [33.812671, -79.46986899999997], [37.710413, -122.460593], [40.317281, -75.43123800000002], [33.882251000000004, -117.58837], [41.87448, -87.63504], [25.714654, -80.41241600000002], [37.84538, -122.22736], [32.40254, -111.21686], [39.245449, -76.4561], [47.587008, -122.229423], [44.06218, -123.01347], [45.271295, -118.028115], [33.459637, -112.008661], [37.36612, -77.49884], [35.705935, -78.601801], [36.794966, -76.082181], [37.996183, -78.31345400000002], [40.731866, -111.987774], [38.885044, -77.012781], [32.729591, -97.062267], [41.73148, -87.62443], [33.82818, -84.48708], [35.54069600000001, -120.713149], [28.454638, -81.491102], [34.10296, -118.19527], [31.760607, -106.268853], [35.88216, -78.64660400000002], [34.080461, -81.132056], [33.561223, -112.257381], [26.682189, -81.895303], [35.396436, -118.953899], [27.890976, -82.335267], [33.179617, -117.326842], [46.908841, -122.651278], [32.780983, -80.790468], [36.396664, -76.946253], [38.795276, -77.003378], [32.666048, -117.080064], [34.02922, -118.44598], [33.74405, -84.38681], [33.010219, -117.264649], [34.322887, -84.398292], [39.443199, -75.222562], [38.98948, -122.542201], [38.82275300000001, -76.885418], [33.467688, -112.110592], [39.273592, -120.717401], [38.616605, -121.953234], [28.610549, -81.308939], [35.27187, -80.83704], [37.758023, -121.496195], [39.097017, -77.00246800000002], [33.165576, -97.078783], [35.408602, -119.029985], [33.972190999999995, -118.072305], [37.552996, -77.443946], [37.863935, -122.302816], [34.315727, -119.29436499999998], [36.125872, -86.727846], [34.036865, -118.284963], [37.72834, -121.10752], [47.0472, -122.82139], [43.18866, -77.68295], [33.364901, -111.67107], [35.841482, -78.67874599999998], [39.07956, -75.97924499999998], [40.70771, -73.4254], [28.067193, -82.74188000000002], [34.579999, -117.93455], [34.176992, -118.163371], [30.438727, -98.100654], [32.280653, -106.769052], [40.72575, -111.99293], [25.747537, -80.337062], [34.037929, -118.042012], [38.24987, -77.46444100000002], [40.210667, -75.22499599999998], [25.925838, -80.16800699999997], [43.208241, -124.242177], [45.963692, -94.355274], [36.832534, -76.196097], [43.259085, -77.750855], [39.601496, -84.236108], [25.768256, -80.33629599999998], [32.78553, -96.62459], [36.328536, -119.565099], [25.68995, -80.365933], [33.46504, -112.25669], [30.429021, -84.20257], [35.264321, -81.08424000000002], [45.915122, -122.748135], [36.200947, -119.328653], [37.01022800000001, -121.515662], [40.73232, -74.12527], [38.582457, -121.501416], [37.021239, -120.064675], [47.11313, -122.56666], [33.7745, -118.06948], [38.596013, -121.401416], [38.571571, -112.452353], [34.047627, -117.810227], [43.160573, -77.613054], [32.686079, -114.568364], [37.844713, -121.646729], [37.994793, -122.285656], [27.926999, -82.32110300000002], [36.327364, -119.278459], [32.87574, -117.22898], [38.420558, -112.649877], [42.414541, -88.07219], [48.385464, -114.065893], [39.02678, -76.44525], [33.81063, -117.5095], [30.416048, -97.673018], [32.75348, -96.80952], [40.654384, -122.623404], [33.957291, -117.15671100000002], [30.439049, -91.182242], [37.705737, -122.084002], [44.974175, -93.290394], [25.881818, -80.242974], [40.257295, -76.851422], [40.816319, -73.93095799999998], [38.547968, -77.340499], [40.797447, -77.856351], [32.805145, -96.825388], [33.849859, -117.875831], [33.583663, -117.096716], [46.414287, -94.285491], [45.849404, -119.25991299999998], [25.76922, -80.344409], [35.26692, -80.84424], [30.31246, -81.65125], [38.839577, -76.866477], [47.76254, -122.18546], [26.083777, -80.190776], [45.587114, -117.823337], [34.068053000000006, -118.256978], [34.0255, -118.17218], [37.52552, -77.43692], [26.146076, -80.451217], [44.051905, -93.055242], [45.508854, -122.731005], [33.998306, -118.280859], [32.159523, -110.978644], [25.869071, -80.211933], [43.202768, -77.462266], [40.731212, -74.051194], [43.04549, -89.2713], [33.94096, -117.24796], [27.7856, -82.35843], [37.118727, -122.016558], [32.13394, -110.96149], [38.657949, -121.388179], [40.73547, -73.85982], [40.360818, -76.358028], [34.03872, -118.21976], [28.607688, -81.424087], [25.787296, -80.210633], [35.344714, -80.968192], [27.817054, -82.664901], [38.499957, -77.381173], [28.346931, -81.64395400000002], [42.323766, -88.164632], [45.53161, -122.25303999999998], [36.133526, -95.86246], [39.810802, -75.809572], [41.6963, -71.475633], [41.76078, -87.875366], [25.879648, -80.357066], [42.582607, -79.063733], [37.474608, -77.429331], [30.398965000000004, -91.054089], [25.734958, -80.319197], [41.842271, -87.63153], [34.037575, -118.317719], [25.685945, -80.394936], [44.890822, -93.315697], [34.14530300000001, -118.368319], [27.91971, -82.60977], [40.439161, -79.861646], [35.786589, -78.698554], [39.909812, -74.98745], [34.785944, -86.939438], [37.550763, -77.437978], [38.607891, -121.382898], [25.885453, -80.243229], [38.61098, -121.419926], [25.532461, -80.372515], [43.502519, -123.320566], [25.7481, -80.310227], [38.796276, -77.17040899999998], [39.062397, -78.414268], [40.193594, -75.32052900000002], [42.3835, -83.098338], [38.066242, -122.225636], [37.91406, -122.06648], [38.905001, -77.070518], [29.729935, -95.286476], [39.00874, -94.693941], [45.497565, -122.525596], [25.78457, -80.23617], [33.980102, -81.031502], [39.752414, -105.245664], [39.305423, -76.89375], [45.097116, -93.450794], [25.705213, -80.28539], [44.94493, -93.036908], [34.151201, -118.28118], [28.551978, -81.47721999999997], [37.560606, -122.302738], [39.628099, -84.199957], [40.84508, -73.9192], [47.61765, -122.18917], [32.635027, -117.098067], [37.69338, -122.39176], [33.77890900000001, -117.876878], [45.127884, -93.486027], [37.76402, -122.21684], [26.534371000000004, -81.87129200000003], [33.811378999999995, -117.128434], [28.662906, -80.843877], [28.07817, -82.757808], [34.0669, -117.98742], [34.99508, -81.99472], [33.45892, -117.655966], [42.912696, -85.63438199999999], [39.179595, -94.578584], [35.97283200000001, -120.897663], [42.76022, -74.11395], [40.020672, -76.742688], [37.72405, -121.67594], [30.19431, -81.79469499999998], [26.066429, -80.207895], [33.91614000000001, -118.232628], [36.15474, -86.857656], [36.707148, -119.763161], [38.943261, -76.88083], [34.07001, -117.545065], [38.052908, -79.117869], [35.201469, -80.72590799999998], [45.50787, -122.684186], [37.38036, -121.95779], [26.492739, -81.810404], [37.54781, -121.91967], [35.380399, -118.974838], [43.25563, -85.55441], [38.92093, -77.305657], [34.219460999999995, -119.072774], [38.948937, -77.311835], [43.59885, -116.5233], [34.117995, -117.907556], [41.24763, -73.08201], [34.063431, -117.28883], [36.687222, -121.653333], [38.906941, -77.01533], [34.062769, -117.544811], [41.83219, -87.69566], [41.82301, -71.46511], [30.841091, -85.346599], [38.42076, -122.55266], [33.912625, -118.179969], [38.702175, -77.208961], [27.099055, -82.19675600000002], [32.458537, -93.756476], [25.943633, -80.205311], [37.464816, -120.495579], [28.477548, -81.462491], [37.431761, -77.431286], [34.083433, -117.972633], [42.739075, -123.370376], [29.818716, -95.242617], [35.203622, -80.843073], [28.537652, -81.361542], [40.019599, -75.144091], [37.809716, -81.212457], [25.787554, -80.178674], [42.66936, -84.19869], [39.11184, -94.56489], [43.247138, -122.389979], [38.70446, -77.206772], [35.098690000000005, -89.87013], [45.533777, -122.580248], [34.111156, -80.733024], [40.194891, -77.106034], [34.052774, -118.227525], [40.886106, -74.132132], [33.891825, -117.55579], [32.220873, -110.82591200000002], [42.369885, -87.88119], [41.5923, -93.76867], [28.53913, -81.28584000000002], [39.003218, -76.89524899999998], [40.75818, -74.16648], [33.195912, -97.135854], [47.97965900000001, -122.35905], [33.592362, -84.385961], [40.209907, -77.929726], [35.768094, -78.57878000000002], [27.76169, -82.66672], [34.141199, -80.913326], [38.712239, -77.22000200000002], [40.43454000000001, -79.98877], [42.16197, -87.80815], [32.698541, -117.120984], [42.727697, -73.7979], [33.929461, -81.048749], [42.430764, -83.21943399999998], [33.920895, -87.318534], [33.945013, -82.256292], [39.72566, -105.01531], [30.16669000000001, -90.8811], [32.793857, -96.798853], [35.996645, -86.689589], [37.837842, -120.230333], [41.029804, -76.392542], [34.087155, -117.677911], [35.996092, -90.887907], [39.957801, -76.68458100000002], [38.914628, -121.064733], [38.880187, -76.95997], [47.49791, -122.09960900000002], [35.81565, -89.97034000000002], [33.98753, -117.89141200000002], [32.788587, -83.667994], [33.060164, -117.290911], [28.509396, -81.421021], [29.660049, -82.469247], [33.925261, -117.880607], [30.210319, -97.637725], [29.953783, -90.073202], [45.53612, -122.66768], [39.97473, -75.45028], [28.421755, -81.40463100000002], [42.26894, -84.47191], [28.45145, -81.20393], [30.164239, -97.787869], [43.38526, -94.05239], [25.85946400000001, -80.242143], [39.972731, -75.850659], [41.500951, -74.406162], [33.798805, -79.077109], [35.76087000000001, -78.820986], [39.375751, -77.409695], [28.505483, -81.392769], [29.853107, -81.658439], [34.077225, -117.544631], [33.71025, -84.24622], [39.165648, -78.15486], [36.803457, -76.724204], [45.1033, -122.8914], [40.293, -112.27254], [44.890136, -93.295784], [40.057357, -76.24929200000003], [41.293443, -72.796903], [38.3758, -122.725296], [36.151403, -86.751233], [40.719505, -111.865249], [38.660621, -121.331235], [45.771912, -122.879205], [28.60341, -81.539658], [39.15646, -84.57746], [25.689146, -80.38287199999998], [25.602109, -80.360727], [41.271203, -122.280224], [40.725491, -112.20521200000002], [28.46958, -81.46500999999998], [28.468433, -81.277711], [25.637394, -80.385798], [42.049675, -88.00295899999998], [36.601456, -80.736926], [32.506839, -111.268941], [42.820855, -117.677253], [35.78781, -78.58775], [28.295105, -81.350787], [38.588674, -75.870879], [34.788771999999994, -92.391889], [27.96545, -82.75869], [38.050216, -120.267182], [42.485667, -83.277187], [33.895751000000004, -118.286265], [34.061196, -81.151637], [33.961811, -118.231932], [44.41152, -123.98199], [37.425345, -121.918019], [46.70676, -95.69244], [29.979924, -90.087111], [34.156816, -118.410427], [47.590352, -122.337534], [40.592717, -75.466751], [38.85909, -77.07041], [37.377709, -121.946192], [32.674692, -97.19277], [32.723861, -97.225302], [36.050832, -119.500228], [36.13761, -86.80076], [42.052448, -123.714266], [37.427085, -77.50546800000002], [45.521024, -122.665754], [34.78379, -92.39128], [39.86942, -75.10216], [33.65765, -117.77821000000002], [33.900403999999995, -98.514006], [45.30325, -93.554559], [46.588505, -111.92495], [36.175327, -86.76724499999996], [33.789861, -118.220959], [34.088946, -118.208442], [34.12155300000001, -117.691029], [40.74254000000001, -73.780286], [33.983354, -118.131958], [29.025596000000004, -82.154901], [44.228602, -117.037996], [27.908847, -82.34054300000003], [39.024713, -76.43375999999998], [40.248294, -79.478379], [32.703284000000004, -96.661051], [43.05526, -76.16285], [36.28387100000001, -81.33001800000002], [33.519558, -117.619906], [37.637596, -77.57833000000002], [34.163971999999994, -118.834894], [39.095972, -94.556173], [25.963213, -80.159486], [33.774146, -84.390096], [25.938449, -80.188624], [34.14675, -117.25243], [29.7705, -95.17783], [38.511094, -122.775552], [38.885306, -77.444956], [39.960183, -76.69929300000003], [37.688018, -122.096072], [33.555329, -112.112569], [44.97343, -93.28737], [45.582252, -118.61001], [43.60597, -122.048074], [42.241011, -87.87161], [38.71612, -90.29522], [40.912293, -73.875224], [35.281476, -80.78410799999997], [36.322155, -119.649597], [34.02487, -118.167301], [28.486725, -81.424494], [35.842053, -78.589896], [25.79698, -80.314461], [40.860031, -73.915253], [27.940796, -82.327709], [42.47567, -83.13786], [38.89757, -104.81884], [41.843962, -74.05898499999998], [43.35026, -121.17351], [43.992701, -93.958178], [33.526281, -117.165267], [29.186988, -82.285014], [31.781906, -106.405579], [32.87451, -96.68299], [30.636845, -87.66863000000002], [34.963592, -82.03975], [27.903095, -82.636016], [40.51718, -89.91117], [37.418, -77.5362], [45.57547, -122.54572], [32.814370000000004, -117.11489], [25.894414, -80.20939], [37.95626, -121.32312], [36.759329, -119.831017], [27.26701, -82.546337], [33.674885, -117.838409], [33.826054, -117.837206], [32.159302000000004, -109.977721], [29.655532, -95.570749], [40.539494, -78.380463], [37.366616, -121.828728], [26.59735, -81.846317], [35.746819, -78.648814], [42.684078, -124.421126], [26.677857, -80.06952], [40.73619, -73.28725], [40.69981, -111.90129], [40.197569, -74.66811700000002], [29.817558, -95.371453], [28.546796, -81.208726], [41.53536500000001, -72.79059000000002], [36.229784, -86.751189], [34.94339, -82.425986], [34.106735, -117.884571], [37.8462, -122.486705], [37.437505, -77.430151], [40.96823300000001, -77.644325], [34.154066, -118.157169], [25.670941, -80.414505], [38.806961, -76.983529], [36.160745, -95.905024], [34.422401, -117.589991], [38.980944, -123.116636], [41.363428000000006, -74.103661], [28.510536, -81.39743], [30.26712, -97.74317], [44.92832, -93.02287], [33.93828, -118.36855], [45.378562, -122.290638], [39.05651, -84.54286], [32.883093, -117.202101], [37.7312, -122.1883], [41.69813, -93.57592], [40.7658, -74.16049], [33.693940000000005, -84.40382], [44.79724, -123.03287], [41.96725900000001, -87.74701999999998], [35.22445300000001, -80.83584599999998], [31.78562, -106.41279], [36.16620800000001, -86.764741], [40.821695, -73.04218], [33.428931, -112.0777], [28.524207, -81.337491], [32.97987, -96.92783], [34.94664, -104.676715], [28.367812, -81.50265300000002], [39.961882, -76.708768], [35.266935, -118.941855], [26.329103000000003, -81.805621], [32.52328, -83.0946], [41.75988, -71.432427], [33.007271, -96.826372], [39.13659000000001, -123.19002], [43.599581, -116.559098], [36.775799, -78.02780899999998], [36.833141, -121.36359], [33.939309, -117.202747], [28.972619, -82.422874], [26.622413, -81.80586], [43.686418, -116.690448], [36.96002, -121.86214], [30.435990000000004, -85.42738], [42.16061, -87.98496999999998], [35.91542000000001, -78.68663000000002], [37.432941, -121.15918899999998], [38.91703, -76.962125], [39.77969, -104.971915], [40.01062, -75.86375], [42.661075, -122.679375], [38.664111, -121.258734], [47.598831, -122.297427], [32.691768, -96.84023], [44.772664, -122.62118], [37.61847, -118.823216], [38.480259, -121.40443799999998], [38.69022, -121.392119], [26.177667, -80.154607], [39.796517, -105.475464], [41.760668, -72.699099], [28.62532, -81.3865], [34.01465, -118.16834], [33.88192, -117.26796000000002], [41.418333, -122.383333], [34.13637, -118.36072], [33.85606, -117.98707], [33.17669, -117.35123], [37.63253, -122.10975], [39.31053, -76.541136], [33.852664000000004, -117.533385], [32.522207, -80.75030600000002], [30.039764, -89.971536], [36.218492, -86.837059], [43.08599, -78.88953000000002], [34.27278, -118.35632], [33.857353, -117.979373], [41.71038, -88.01947], [40.821255, -97.693033], [36.882844, -76.133676], [33.673536, -117.755809], [42.813847, -73.634079], [34.42736, -119.730001], [41.676045, -72.855867], [40.73902, -74.19317], [39.23037, -112.141251], [35.426007, -77.715815], [40.73931, -74.06426], [37.764271, -122.389861], [41.00266, -111.927326], [27.069034, -82.095426], [30.019887, -90.061131], [29.97457600000001, -95.421184], [40.67427, -111.84159], [40.428861, -79.930998], [33.132136, -117.12131200000002], [47.580764, -122.386557], [33.54959, -112.1123], [40.8224, -73.20846], [39.677488, -86.346482], [36.969283, -121.796972], [39.031945, -94.688447], [40.115436, -75.070323], [37.736498, -113.044822], [43.894662, -94.200026], [37.622809, -120.934291], [38.618693, -77.297306], [36.15790300000001, -86.7726], [33.9202, -84.32015], [35.191758, -80.852972], [38.666823, -121.27225], [38.496404, -121.446465], [27.208636, -81.39221500000002], [33.541089, -81.705559], [37.49117, -122.299657], [40.483679, -75.843815], [35.35419500000001, -119.03941], [36.988768, -120.091906], [25.89074500000001, -80.151535], [42.456825, -84.935334], [29.865549, -95.506821], [45.08696, -93.44671], [32.66084, -117.07657], [45.773023, -111.113678], [33.76591, -117.94246], [41.39993, -112.04647], [38.84511, -77.08117], [25.87396, -80.347248], [34.024053, -117.335455], [33.920577, -118.082588], [29.77663, -95.389789], [33.667849, -117.881187], [47.931182, -114.182477], [32.997037, -96.847569], [40.59875200000001, -112.29417], [33.97992, -84.53735], [39.01898, -76.95983000000003], [44.700278, -123.052074], [39.15435, -94.82072], [47.61525200000001, -122.32081], [38.12868, -77.51279], [33.913531, -84.480176], [30.461677, -91.084548], [30.104681, -81.82901700000002], [34.964486, -82.201318], [28.481417, -81.611623], [27.957874, -82.35690699999998], [37.99343, -122.10512], [37.175925, -121.995987], [47.29656, -122.28789], [33.42965, -112.08782], [32.882348, -85.145705], [42.888618, -78.88798299999998], [35.574942, -80.556446], [40.782832, -74.24517800000002], [32.83979, -117.223438], [30.257990000000003, -97.73724], [34.090872, -118.306643], [39.57904, -75.65758000000002], [34.129672, -117.933631], [39.871498, -75.388984], [33.847716, -117.871043], [33.135287, -117.13258], [34.996786, -117.542815], [33.972356, -117.374287], [41.168636, -112.02041], [33.702459999999995, -84.10146999999998], [44.212989, -123.06052], [26.547661, -81.839324], [38.201749, -79.008901], [40.89525, -74.11827], [35.087553, -80.86004], [42.455338, -90.776615], [40.189183, -75.109937], [35.003039, -80.698518], [42.10286, -78.50684], [33.17415, -117.225561], [38.685344, -121.34004], [39.59872, -84.16148000000003], [25.78907, -80.20528], [38.602277, -121.436744], [31.509988, -86.346673], [43.891421, -93.697532], [34.133038, -79.930392], [37.565937, -121.02798], [36.83561, -76.287548], [46.610267, -114.037275], [25.896988, -80.250967], [40.98733, -73.680337], [43.89281, -121.37697], [36.842658, -76.136957], [38.15519000000001, -121.676441], [34.066714000000005, -117.448166], [35.008507, -80.918898], [43.125645, -77.765689], [40.8669, -74.417427], [36.819609, -119.785209], [30.234109000000004, -82.63859000000002], [33.77871, -117.89506000000002], [40.69673, -73.981009], [45.27793, -123.010934], [35.21933, -80.84711999999998], [34.13841, -118.27657], [33.462709999999994, -112.17497], [33.870595, -98.534947], [38.211856, -120.764412], [43.129693, -124.364147], [34.360022, -80.12468], [35.052344, -80.863846], [34.05256, -118.25752], [34.045204, -118.173602], [33.926, -84.48739], [42.34628, -122.87533], [42.189355, -88.135479], [38.67754, -77.22981999999998], [42.974975, -85.644734], [34.20443, -118.47348], [38.83969, -104.74807], [41.35333, -75.38301], [25.447787, -80.475912], [38.300452, -77.504391], [35.32080300000001, -80.73294], [45.115764, -93.188574], [36.865171, -76.195324], [40.752016, -73.74679499999998], [40.73233, -73.74671], [33.843803, -118.20622], [42.31958, -87.88011999999998], [40.033241, -74.250548], [32.770021, -117.13981499999998], [33.480259999999994, -112.0393], [38.502467, -121.432124], [33.912921000000004, -98.492874], [30.466414, -87.243116], [37.96379, -122.354818], [39.285017, -77.327238], [28.404743, -81.244254], [26.705481, -80.055116], [38.296357, -77.50425], [42.783209, -86.07985], [37.710676, -122.166722], [34.265896000000005, -118.472625], [34.153693, -118.287745], [32.726085, -117.166845], [32.74828, -96.76929], [38.636851, -121.324815], [38.10126, -121.236759], [40.155922, -75.121945], [40.809914, -77.862313], [28.37367, -82.20224499999998], [39.7984, -104.785833], [28.084396, -82.454708], [33.963913, -117.324977], [33.691917, -79.856788], [36.056766, -119.143111], [33.25112, -111.94459], [45.511442, -122.705554], [33.884128000000004, -118.02887], [38.594428, -121.346728], [33.85244, -117.8758], [37.936922, -121.297456], [45.957325, -119.039336], [48.912388, -122.627881], [35.867588, -78.718951], [40.9015, -74.13032], [34.25803, -117.168043], [35.69479000000001, -78.87692], [44.565879, -92.535249], [41.8748, -78.383836], [29.751, -95.35746], [44.6393, -123.06224], [34.0166, -118.220001], [35.103303000000004, -80.884405], [41.2096, -111.99703999999998], [34.19433, -118.18272], [26.51096, -80.07265], [33.994699, -117.912951], [32.675744, -97.011835], [42.89653, -123.24301], [32.765339000000004, -96.841011], [28.57022000000001, -81.286201], [40.67582700000001, -78.246861], [44.965699, -93.254131], [36.221279, -76.93869699999998], [28.564772, -81.20727600000002], [34.263745, -119.034592], [33.74181, -84.41368], [40.324641, -112.288352], [25.69423, -80.38208399999998], [34.100566, -118.47801], [35.372456, -118.930768], [38.835414, -77.011874], [33.685315, -85.14546899999998], [33.46237, -117.662468], [40.308222, -79.709714], [45.03758300000001, -93.091868], [41.381061, -71.90030300000002], [45.170942, -93.029726], [42.568513, -113.797835], [34.339796, -79.539459], [29.705165, -95.346083], [32.741316999999995, -96.838608], [35.839976, -78.6771], [40.210089, -75.362747], [30.525264, -91.180336], [34.033466, -118.144196], [37.367611, -121.922872], [26.27212, -80.23474], [34.44042, -118.59981], [33.750667, -84.231459], [28.42315300000001, -81.404779], [33.467456, -112.110489], [34.80292, -92.31247], [32.278109, -97.552956], [33.943325, -118.279716], [47.46919000000001, -122.26836000000002], [28.241671000000004, -82.7276], [28.599439, -81.51318], [41.9641, -87.749859], [41.057378, -73.81305], [25.80756400000001, -80.313298], [40.759781, -112.776063], [35.41528, -119.05846], [28.727656, -81.373326], [45.64683, -110.889011], [33.775556, -117.853227], [34.841804, -82.283313], [36.095337, -96.020584], [34.301301, -117.459307], [33.617416, -117.711459], [38.955137, -77.027878], [34.065725, -117.255941], [34.81440300000001, -82.334008], [30.404789, -91.097647], [33.02749, -117.07899], [41.526159, -72.66395899999998], [30.493634000000004, -84.428702], [31.72759000000001, -106.300974], [34.000204, -117.723501], [36.835581, -76.288236], [34.070051, -117.162204], [41.474899, -81.86332800000002], [33.904878000000004, -84.23779499999998], [33.93096, -118.291913], [42.95586, -87.93502], [42.22018, -72.63486999999998], [32.439397, -90.144206], [33.01285, -96.82179], [25.945626, -80.1769], [38.353046, -78.279229], [45.06349, -122.941053], [25.82872, -80.20608], [25.812131, -80.321549], [29.953268, -90.068954], [31.355999, -88.924578], [33.432523, -111.978396], [40.03475, -75.07114], [35.70182, -119.71672], [34.017695, -118.175479], [39.771079, -77.64859200000002], [44.42126, -95.11769], [27.953113, -82.41229799999998], [29.921840000000003, -81.41367], [37.646625, -77.245959], [37.30575, -88.75508], [27.180872, -81.87191800000002], [30.494478000000004, -91.161604], [33.284443, -111.807025], [30.824125, -88.261711], [35.225633, -80.845288], [29.716224, -82.465781], [30.276981, -97.73949], [42.34398, -123.567277], [43.172733, -77.43231999999998], [29.54067, -98.42129], [35.542691, -90.495167], [42.311715, -87.905323], [30.412618, -84.277087], [39.304701, -104.888158], [39.597, -74.38353000000002], [45.417563, -93.916425], [44.765894, -93.28866], [32.76181, -117.16488], [39.85222, -85.25576], [46.906825, -98.233534], [30.320390000000003, -81.69077], [41.54814, -93.59682], [42.00544, -87.89415], [45.584518, -122.093973], [38.980643, -94.70963], [38.663573, -77.24924399999998], [41.99771, -73.98576], [41.650146, -86.98098], [32.252391, -90.211804], [36.097593, -86.553983], [35.44315, -80.60861], [30.44261, -91.138447], [35.061594, -80.967412], [26.172334, -80.903471], [33.90195, -118.268982], [44.620554, -123.667091], [33.88414, -118.02911], [33.69891, -84.26978000000003], [40.051879, -74.169917], [36.543732, -121.933301], [33.66069, -117.7476], [45.17229, -93.52693], [35.22781, -80.86148], [44.95165, -93.13646], [41.694644, -87.596863], [41.71814000000001, -72.649828], [32.50789, -80.968712], [41.710358, -87.532054], [35.887799, -119.537759], [35.077022, -89.98533499999998], [44.874501, -122.905379], [40.938446, -73.806448], [34.029817, -117.628437], [30.167881, -97.793994], [42.98804000000001, -88.0383], [33.89999, -117.47346], [43.830889, -117.635132], [33.964044, -117.325059], [27.388971999999995, -82.433328], [38.728176, -121.290366], [40.042434, -75.282054], [38.392496, -121.92848899999998], [44.4041, -122.377512], [40.63582, -111.90506], [34.202644, -80.27265899999998], [45.11675, -123.14586], [28.577690000000004, -81.47406], [29.952389, -82.860506], [47.156102, -111.869903], [34.11046, -118.33435], [41.875453, -87.936585], [34.470315, -117.408261], [35.751379, -78.617114], [45.56612, -122.55657], [38.832452, -76.88128499999998], [39.894261, -86.053391], [30.45213900000001, -87.26281800000002], [35.344934, -80.82399699999998], [38.944612, -94.374114], [36.031937, -86.640233], [38.50319, -121.46315], [33.876552000000004, -118.081783], [36.12943, -77.79401999999997], [27.93777, -82.12131], [39.380905, -77.408932], [33.979704, -118.12861399999998], [41.182445, -112.057963], [44.489751, -123.06181], [36.15814, -86.78164], [43.250411, -73.664109], [42.933725, -123.283877], [41.896909, -71.898511], [36.24485, -86.63786], [34.274001, -119.135292], [38.71217, -90.44787], [35.96915, -83.92721999999998], [29.58820900000001, -98.299902], [45.52455, -122.56518], [29.959663, -90.06326700000002], [33.963913, -117.324977], [38.676563, -77.236125], [37.634289, -122.41198500000002], [28.612421, -80.85108100000002], [33.725390999999995, -117.803279], [30.234068, -97.722765], [27.298249, -81.823898], [33.642272, -117.859402], [29.359587, -82.251971], [34.046510999999995, -118.448441], [39.744827, -122.018033], [42.195888, -87.989426], [32.837109000000005, -97.034726], [38.786312, -77.449174], [35.43525800000001, -119.012455], [25.465955, -80.45743], [39.198912, -121.021143], [38.752509, -76.992724], [45.163156, -122.820709], [38.452741, -121.351852], [35.2947, -80.76631], [38.23915, -85.75329], [38.97064, -78.429604], [42.38145, -83.06496], [39.50741, -104.87237], [44.88977, -93.35351], [26.547684000000004, -81.78012199999998], [41.85852, -72.709645], [34.865417, -120.398759], [27.752432, -82.677123], [26.346834, -80.11828], [37.778081, -122.401165], [30.611290000000004, -87.320673], [34.806446, -82.432562], [29.72941, -95.44641], [38.002771, -76.848474], [27.99219, -82.36997], [39.997218, -85.777462], [25.890318, -80.163545], [32.720021, -117.117358], [33.70545300000001, -117.954392], [39.907809, -122.093891], [37.47203, -122.29585], [35.19001, -89.92719], [38.523915, -122.496615], [42.555492, -73.40172700000002], [47.247794, -110.926981], [37.381304, -121.904296], [37.810155, -122.365079], [38.789983, -90.56577], [46.147406, -93.731721], [30.28595, -81.80344000000002], [37.93516, -121.737372], [30.717907, -87.349868], [40.14322, -75.11588], [39.766312, -123.543695], [34.072365999999995, -117.755622], [32.792551, -96.798084], [40.80833, -76.10815], [38.965377, -77.180762], [41.601803, -87.153784], [25.53052000000001, -80.38094], [25.92733, -80.217706], [30.187522, -97.597936], [40.7669, -73.89689], [25.988148, -80.165745], [27.996785, -81.897953], [39.051504, -94.498679], [33.534489, -84.261177], [37.763452, -77.46044300000001], [40.66586, -73.74956999999998], [28.47242, -81.4091], [32.923219, -96.738645], [40.439045, -78.934565], [28.567115, -81.210264], [34.602801, -86.980053], [37.261194, -119.701446], [41.267516, -111.97769], [34.856475, -82.323893], [36.533907, -119.29579], [33.749422, -118.271254], [32.67827, -96.82274], [34.767409, -80.317123], [39.808865, -123.799965], [39.332312, -121.364779], [33.857582, -118.286078], [33.91031, -118.10533], [42.444529, -83.21964200000002], [37.37498400000001, -120.685318], [40.883356, -73.816119], [33.16897, -117.21754], [33.022581, -117.226805], [33.91942, -84.33339000000002], [41.31645, -72.90501], [40.72357, -74.17586999999997], [36.992785, -119.529562], [33.64373, -78.98649], [34.036247, -118.038548], [32.359765, -111.087945], [39.061589, -94.488527], [37.36034, -120.64127], [37.864879, -122.50379], [37.601655, -121.847936], [33.993281, -118.069196], [42.326937, -73.862945], [32.22889, -110.8581], [47.48498, -121.793392], [25.714323, -80.417447], [35.056339, -80.937895], [37.206359, -80.235536], [36.12525, -86.7332], [35.151589, -80.844421], [40.847642, -73.934966], [37.36274, -121.88781000000002], [41.168754, -79.049832], [41.10123, -73.98729], [33.671676, -117.983474], [45.71861, -120.22244], [38.83830800000001, -76.996487], [25.868135, -80.339101], [29.368676, -98.517982], [39.019178, -76.97631899999998], [38.784871, -90.527325], [38.99189000000001, -76.37109], [31.53415, -97.110653], [39.797521, -120.13823899999998], [34.167534, -118.300341], [37.93713, -122.51668], [41.297652, -74.03020699999998], [40.54177, -112.02107], [35.964364, -78.517943], [40.844968, -73.918472], [38.994605, -77.158113], [38.562208, -121.487224], [44.10182800000001, -123.688145], [25.684201, -80.45397700000002], [37.398245, -122.024101], [44.904433, -123.22853], [35.66076599999999, -78.70309300000002], [34.025413, -117.785728], [36.812676, -121.673508], [42.41651, -71.10410999999998], [30.23975, -81.84360600000002], [34.0048, -84.5646], [43.166989, -73.714497], [33.648569, -117.384761], [33.800188, -84.397198], [41.76535, -87.93545999999998], [37.16571, -76.9734], [33.782592, -118.171622], [38.629227, -121.508821], [40.727365, -111.904297], [42.876398, -85.49105300000002], [33.939429, -117.398436], [28.46967, -81.46066], [38.78533, -77.513242], [46.15958, -123.806238], [46.01222, -92.52114], [25.963834, -80.164745], [27.447749, -82.573666], [30.419433, -91.094823], [36.131995, -86.897637], [38.887621, -76.961899], [46.97639, -123.65507], [45.48452, -122.56859], [45.140858, -93.284815], [39.762954, -84.157876], [29.68089, -95.37319], [47.130693, -111.904259], [41.055615, -73.947185], [44.01943, -123.9719], [40.607732, -74.041066], [40.802521, -73.916593], [32.687033, -96.823106], [44.694646, -117.852329], [38.811307, -76.962671], [40.760347, -111.888298], [43.67345, -116.68207], [25.810617, -80.14191600000002], [27.099873, -82.43269599999998], [43.918092, -124.109461], [35.601615, -117.903009], [33.084286, -117.298044], [38.397639, -77.43549399999998], [44.862074, -93.458681], [33.989923, -118.280155], [39.11994, -84.52508], [37.804094, -122.302755], [40.463386, -120.926223], [39.195528, -122.040911], [33.202886, -117.339978], [35.150465000000004, -80.799453], [30.3162, -81.76545], [27.006357, -80.208488], [35.847605, -78.794535], [25.686024, -80.399132], [41.065174, -78.73281800000002], [39.3413, -76.76231999999997], [44.906631, -122.98606], [34.064333000000005, -80.95759699999998], [25.746592, -80.369457], [47.42105, -115.61171000000002], [40.7121, -73.82283000000002], [37.674955, -122.115387], [41.096774, -74.044321], [33.980993, -117.36869], [42.599005, -123.383793], [40.813618, -80.925351], [33.843845, -117.534751], [27.948982, -82.78742700000002], [32.72432, -96.76198], [25.599623, -80.348167], [34.136075, -117.328855], [36.66311500000001, -78.972298], [44.567035, -123.258365], [37.961073, -122.511008], [45.002757, -123.896309], [37.510857, -77.424977], [33.85304, -117.81185], [34.35929, -118.55393], [37.027884, -76.378701], [36.04665, -86.66141999999998], [43.637684, -95.675114], [27.069035, -82.095412], [34.800556, -82.22412800000002], [38.790806, -121.292089], [39.419841, -76.404781], [34.068869, -117.839455], [40.288552, -111.72581], [34.354808, -117.437859], [39.53544, -119.78736], [41.539471, -121.152722], [42.135229, -87.88703199999998], [25.944752, -80.148636], [37.547324, -113.19868999999998], [37.696992, -121.920971], [40.854204, -73.965876], [37.42435800000001, -76.832274], [25.683259, -80.343726], [36.938104, -120.019386], [43.841985, -123.048758], [25.769525, -80.33645200000002], [42.377974, -87.85548], [38.857367, -77.842396], [40.784591, -74.200676], [32.8375, -79.85805], [35.328136, -80.745552], [25.924871, -80.303506], [40.731993, -74.044386], [28.612344, -81.25832700000002], [34.022766, -117.813377], [40.16134, -111.64685], [30.322065, -97.659188], [33.78696, -117.830826], [42.813924, -73.766706], [39.726423, -105.013922], [37.96978, -122.04807], [32.87944, -117.107875], [40.834888, -73.866247], [39.06053, -96.7367], [39.52408, -86.88266], [43.909153, -123.013683], [38.98973400000001, -77.42793], [26.210183, -80.13771899999998], [39.95863, -75.168835], [26.346505, -80.117944], [25.81711, -80.20644], [42.415997, -122.855257], [45.116743, -93.478472], [32.759906, -97.207165], [44.094284, -121.300918], [39.910393, -75.151344], [35.24638200000001, -80.788526], [34.049269, -118.448287], [34.053419, -117.781132], [36.20642, -86.77617], [32.745614, -117.189009], [25.898614, -80.372394], [35.21978, -80.82568], [34.087169, -117.679154], [33.966988, -117.32721399999998], [25.613893, -80.348403], [29.601119, -95.266437], [27.852814, -82.326583], [40.718346, -111.883832], [33.033501, -117.218765], [41.575915, -73.90911], [39.657007, -79.54124], [36.824637, -77.955218], [34.020495000000004, -118.194105], [30.12298, -90.67607], [40.326948, -74.643567], [33.964908, -118.247663], [34.844103000000004, -92.15366], [36.859722, -121.576111], [28.467172, -82.621538], [37.927089, -79.236177], [42.994362, -85.64485], [33.888804, -118.285787], [32.8138, -96.628322], [36.053452, -86.672874], [37.756796, -77.458889], [25.714117, -80.427899], [46.555405, -112.06658], [45.25988, -122.9424], [34.0652, -118.00005], [32.824396, -96.849057], [33.889957, -86.851247], [38.919892, -76.970443], [48.527875, -121.917983], [33.686732, -117.872668], [47.162171, -122.476073], [40.555096, -111.8975], [30.460196000000003, -81.678547], [38.89568, -76.84866], [36.938698, -121.754931], [35.06368, -80.81985], [35.08561, -106.53938], [29.673882, -95.50853], [35.055158, -81.789695], [38.727439, -76.881541], [34.679479, -92.332534], [39.998549, -75.232173], [32.78089600000001, -117.089871], [39.49537, -85.69197], [43.610126, -116.393548], [35.079176000000004, -81.005932], [29.703593, -95.590347], [26.33658, -81.75142], [28.451531, -81.400598], [42.786692, -83.741057], [34.237035, -119.177273], [40.710986, -111.904153], [43.01416, -88.223036], [30.256195, -97.603635], [25.642007, -80.38595600000002], [27.196159, -82.490086], [47.61586, -122.18892], [37.511273, -77.150297], [41.89446, -87.6563], [41.85887, -88.10108000000002], [30.243440000000003, -81.76271], [33.96638, -118.164896], [33.86586, -118.216098], [33.766690000000004, -117.97292], [30.458365, -97.689598], [45.47532, -122.78867], [35.800326, -78.63364399999998], [37.780714, -84.317992], [38.903499, -121.055184], [33.429395, -112.094186], [34.1347, -117.629145], [33.960012, -118.284774], [33.859790000000004, -118.03612], [34.003665000000005, -118.333639], [33.9853, -117.36524], [38.227895, -122.120194], [36.889542, -121.600571], [41.4427, -85.982339], [34.118320000000004, -117.84156000000002], [26.105564, -80.275801], [34.064575, -118.000208], [34.036814, -118.29157], [28.043739, -82.52691800000002], [26.930569, -80.148814], [40.699535, -73.747773], [38.96498, -94.52135], [40.853058, -73.960092], [38.09281, -85.66905], [37.94844000000001, -122.512632], [33.523871, -81.77942], [38.64902, -121.307591], [37.852438, -122.029083], [45.594872, -118.482192], [32.786155, -96.812695], [32.243056, -111.000607], [33.45943, -117.655667], [32.83815, -97.07702], [29.736291, -95.604027], [32.864556, -117.200812], [37.66013, -122.10392], [30.407999, -97.745543], [39.966619, -75.283955], [25.767744, -80.33628399999998], [41.25171, -111.96979], [32.7968, -79.995], [43.19106, -77.61288], [37.03752, -76.39118], [45.058246, -123.60118], [25.727894, -80.399527], [40.05194, -76.255009], [26.536547, -80.172639], [37.722594, -97.318028], [33.69313, -117.92865], [37.013001, -76.456236], [26.059259, -80.21524699999998], [33.74351, -84.38776999999997], [34.734682, -92.261577], [33.799606, -81.04316], [40.72267, -73.58049], [40.166342, -75.289158], [39.069311, -121.800492], [32.903396, -96.803952], [33.88075, -81.03681], [32.767522, -96.880832], [34.022428000000005, -118.166923], [42.372565, -83.05119499999998], [48.133131, -111.905955], [41.844214, -87.988156], [32.978034, -96.926245], [25.68887, -80.35042800000002], [34.585465, -118.13393700000002], [33.43476, -111.88171], [46.086992, -95.889176], [32.83826, -97.0792], [40.832673, -111.936424], [29.67367, -95.38185], [45.467112, -123.749155], [45.05241, -122.97143], [45.70335, -118.683553], [34.205892, -118.339815], [35.034508, -81.97399399999998], [32.133924, -110.964196], [32.79081, -96.7498], [29.825544, -95.387409], [33.77565, -118.27986], [36.0345, -79.093], [32.788106, -96.791321], [39.92762000000001, -75.14641999999998], [28.078732, -80.644217], [37.740942, -121.505821], [36.037899, -86.646925], [32.976772, -117.251782], [32.963141, -80.073114], [41.938955, -73.75351500000002], [44.97327, -93.4006], [38.423319, -121.395378], [38.588777, -76.86555600000001], [37.75764, -122.21122], [44.9485, -92.86242], [40.849239, -73.940104], [37.257932, -79.949988], [30.369346000000004, -81.669], [42.24055, -87.97705], [42.633422, -73.763526], [33.6491, -84.36928], [44.94543, -122.99015], [37.79267, -122.46963999999998], [34.332059, -81.852152], [32.760082000000004, -97.162238], [25.898577, -80.202607], [42.471266, -88.09356], [33.462070000000004, -112.07012], [34.23085, -118.39868], [36.997451, -121.556532], [34.792840000000005, -86.57732], [30.348979, -91.067668], [37.132061, -77.518898], [30.421131, -87.32883000000002], [38.51687, -121.46326], [32.809959, -96.847534], [25.703771, -80.290401], [34.080458, -81.155335], [33.945468, -118.369199], [39.05069, -94.56148], [37.877702, -122.307273], [32.980411, -96.929036], [38.91464000000001, -76.93269000000002], [40.75733, -73.99651], [38.131319, -81.38975699999997], [41.92479, -83.36026], [28.572471000000004, -81.45128100000002], [28.449921000000003, -81.477029], [40.972941, -76.897761], [45.580869, -118.585921], [30.625602, -88.121241], [37.990963, -122.336175], [30.3699, -97.58308], [35.102536, -85.229003], [33.194235, -117.258442], [38.58045, -90.22555], [36.14909, -86.78084], [33.474922, -117.080564], [29.933071, -90.082069], [45.773706, -123.373755], [40.566836, -77.421389], [41.39613, -75.6466], [25.963401, -80.150446], [25.942301, -80.30958299999998], [36.531461, -82.39060500000002], [47.434941, -122.269603], [37.024619, -76.343707], [33.72534, -81.56364], [43.89281, -121.37697], [38.082938, -78.988623], [40.90427, -78.23330899999998], [38.176377, -120.958055], [44.59552, -120.25244], [38.651073, -121.530343], [36.06066, -95.971633], [43.76791, -121.45293999999998], [42.445406, -73.809058], [35.86842700000001, -78.82530899999998], [34.256853, -118.435046], [38.32604, -77.72831], [33.685414, -117.617061], [28.495758, -81.469254], [36.925874, -80.905969], [37.638094, -121.295485], [30.314487, -97.732398], [27.436686, -82.57544399999998], [44.76203, -95.55979], [38.87973, -94.79268], [33.074848, -117.088232], [36.52262800000001, -121.809895], [28.654361, -81.418627], [40.429805, -79.956918], [35.36721400000001, -92.1293], [46.795322, -113.751196], [30.14449500000001, -97.765455], [45.25087, -122.72271], [47.269824, -122.31756], [29.10155, -81.02683499999998], [43.04657, -102.21911], [36.76257, -121.75372], [41.72234, -87.58521], [44.96457, -93.21579], [44.824391, -93.291306], [38.683606, -121.429135], [33.897354, -117.479184], [42.999889, -115.535807], [37.14435, -121.98468], [36.8065, -76.36059], [37.974361, -78.208011], [33.29361, -111.74597], [41.875325, -78.66232], [35.164604, -85.210599], [40.198269, -120.615437], [31.78365, -106.32306], [34.068889, -117.342948], [29.932697, -90.079506], [38.416002, -121.48509], [25.845526, -80.255173], [40.17072, -74.08381], [37.826871, -122.286515], [33.85678, -84.75845], [40.35925200000001, -78.951627], [29.723506, -95.491279], [41.74981, -72.71993], [42.59507, -83.03], [25.892312, -80.20185500000002], [28.327358, -81.48947], [47.670535, -122.90823799999998], [28.597576, -81.297676], [37.43664, -121.91969], [40.1777, -74.90695], [25.866297, -80.24238199999998], [35.78845, -87.162909], [34.03037, -117.63305], [30.32095, -81.70905], [41.06225900000001, -73.67394499999997], [37.065175, -121.213664], [35.79942600000001, -78.562793], [45.67615900000001, -121.861055], [41.05199, -111.96042], [38.940819, -77.62353399999998], [28.486787, -81.42019300000003], [32.825716, -96.831126], [34.301429, -79.810688], [34.662, -82.26234000000002], [27.97950800000001, -82.77615899999998], [39.098249, -77.038825], [28.260728000000004, -81.48618], [40.725148, -73.93239799999998], [34.587199, -118.294519], [34.0349, -118.36729], [41.76054, -71.48099], [38.889025, -122.73182], [45.493472, -122.791775], [37.571405, -77.476729], [25.842831, -80.225317], [34.07242100000001, -117.295474], [34.728921, -92.136535], [39.2693, -77.15235], [37.060155, -122.145656], [32.850733, -80.649149], [33.094301, -117.30449], [40.00603, -82.87291], [39.04409, -94.67693], [32.669145, -97.233742], [39.083637, -121.629898], [40.209246, -74.080838], [33.472962, -86.828734], [25.73417, -80.302918], [35.760701, -78.63140600000001], [45.779439, -108.118375], [38.245731, -122.625509], [34.661189, -81.28871], [34.340892, -118.522873], [34.43356, -118.38569], [45.5357, -122.587478], [40.020294, -85.76315600000002], [38.349226, -85.487204], [37.7009, -121.79503], [45.918591, -119.322138], [32.81173, -117.15566], [42.04306, -88.37451999999998], [34.068119, -117.858207], [34.582054, -80.031626], [34.021508000000004, -118.171599], [32.74028, -117.248779], [30.288952, -81.97868199999998], [43.159465, -83.639385], [28.368179, -81.31433], [38.004791, -121.841338], [27.44131, -82.459082], [45.36399, -122.60608], [36.143368, -86.737215], [28.44872800000001, -81.5641], [34.622608, -92.490452], [33.81072, -118.291931], [37.918316, -122.063574], [41.406849, -81.64227199999998], [33.923717, -118.281512], [32.972382, -80.855584], [38.915, -76.54974], [44.085291, -123.102074], [35.985311, -83.91240400000002], [37.28862, -93.186177], [34.02742, -118.037563], [33.925063, -117.8857], [39.558304, -104.880711], [47.84466, -122.25858999999998], [45.31206, -94.50069], [38.997076, -112.01895], [38.8537, -77.39368], [47.510634, -94.969122], [34.034136, -118.350206], [45.25186, -117.969573], [39.04192000000001, -94.67531], [25.909742, -80.292602], [37.670546, -122.479847], [39.232917, -76.666985], [36.758187, -119.875759], [36.79127, -76.393357], [38.23540300000001, -122.677742], [35.20919, -118.80643], [26.139532, -80.343436], [30.407179, -87.276376], [32.75978, -97.22522], [38.695811, -90.260571], [43.087358, -77.523176], [32.896092, -96.89469], [34.826842, -92.189637], [34.011098, -118.279276], [25.628183, -80.364089], [38.81478, -76.955578], [41.736792, -72.74001700000002], [35.94251699999999, -119.285924], [33.89881, -117.47617], [27.79085, -82.35719499999998], [36.21676, -86.728925], [32.9069, -96.72828], [34.58294, -112.34331], [26.174618, -80.31222700000002], [27.623517, -82.477329], [42.47266, -75.54635], [41.74420900000001, -71.444356], [39.511001, -75.828119], [39.10974, -76.78403], [25.933435, -80.162238], [42.745324, -84.508455], [34.698523, -86.381004], [37.848602, -122.235179], [39.613461, -76.199742], [42.396061, -124.422632], [34.2659, -118.472252], [33.916007, -118.103402], [33.50911, -84.23495], [40.12405, -111.65474], [45.10753, -93.301153], [28.03693, -82.0979], [35.068663, -80.678113], [39.742301, -86.04051199999998], [42.7735, -76.62388], [37.752323, -122.402681], [41.61488, -93.6978], [25.97053, -80.16575999999998], [30.315966, -81.65473], [35.553986, -82.69708], [45.129977, -123.116849], [35.239191, -80.852864], [39.075625, -77.003022], [41.0474, -73.542469], [35.201144, -80.761979], [28.834025, -81.320358], [25.948261, -80.26261099999998], [45.596231, -123.146954], [37.325168, -121.886239], [38.823848, -77.413049], [25.88298, -80.210621], [37.572148, -121.88865], [37.51818, -120.88347], [48.279098, -114.47425], [33.876906, -118.154776], [38.562729, -77.800763], [37.813723, -122.361406], [33.6805, -117.852283], [38.100611, -84.48543000000002], [41.98383, -86.134617], [39.35545, -120.14582], [27.89376, -82.728003], [33.40841, -112.20416000000002], [42.687281, -73.71752099999998], [35.775658, -121.327232], [39.948362, -76.711922], [25.811689, -80.348649], [37.684842, -113.16156399999998], [40.24902, -75.34611], [34.173617, -117.310355], [40.72545, -111.81462], [29.983390000000004, -90.05442], [39.285024, -120.700769], [40.718522, -112.233784], [28.104793, -80.70584000000002], [45.331717, -93.560644], [47.5034, -122.2781], [30.618240000000004, -84.81742], [35.267093, -119.226923], [39.341472, -94.750202], [39.770781, -86.142689], [43.633199, -93.325434], [33.55316, -112.1516], [41.7319, -87.81614], [35.20247, -80.82486], [35.411944, -119.054444], [33.649852, -117.736932], [27.8472, -82.66358000000002], [25.928453, -80.189477], [43.093783, -83.607045], [37.775206, -122.405587], [33.554975, -112.037828], [35.222187, -80.841312], [37.26155, -121.80016], [41.738756, -72.664147], [40.65097, -75.4088], [43.921076, -93.083564], [33.271504, -117.441326], [25.924919, -80.155863], [41.107988, -73.799883], [39.18666, -94.59158], [39.805666, -75.451365], [33.683588, -78.975238], [37.71571, -79.446269], [42.377561, -83.755978], [38.481672, -121.405276], [34.264423, -119.243359], [34.134789000000005, -117.66558], [34.14083, -118.27779], [30.405974, -97.583097], [37.778229, -122.419967], [40.051099, -105.23455], [33.918012, -118.224265], [34.03025, -118.03243], [37.674535, -121.665649], [41.288031, -72.55298499999998], [41.476415, -73.580287], [45.52237, -93.368753], [40.72827, -73.97176999999998], [42.237774, -88.148814], [45.283894, -121.72325], [27.447441, -82.52284], [45.609546, -122.680126], [43.12217, -77.64763], [37.755106, -121.032654], [47.22853, -122.24847], [33.633672999999995, -112.13162], [25.930714, -80.34942], [39.42537, -76.69091], [33.385855, -111.909649], [29.97967, -90.078235], [25.768991, -80.320605], [32.902326, -96.721063], [29.6686, -95.56027], [38.60996, -90.45151], [34.133994, -118.356076], [41.86092, -87.96127], [39.80361, -74.93181], [33.876543, -118.077256], [41.86541, -88.20464], [38.771025, -90.264374], [44.777956, -93.561331], [32.747894, -117.119321], [40.298113, -86.716631], [25.996199, -80.162805], [41.87901, -87.64587], [37.40558, -121.87752], [43.27330900000001, -88.518142], [30.709339, -85.869324], [39.927331, -86.25822099999998], [41.56142, -72.64659], [39.003021, -76.400851], [41.06229, -81.51026999999998], [33.455953, -112.13449], [36.117423, -86.826628], [44.925252, -93.45064], [40.244652, -76.123405], [40.242279, -75.335822], [32.912818, -117.229], [33.007037, -96.707709], [32.85694, -96.88835], [43.01318, -83.64222], [40.78836, -74.46807], [35.80701, -90.673167], [28.476562, -81.417449], [25.917448, -80.216825], [35.815495, -120.7548], [28.068416, -82.303224], [33.902467, -118.370336], [34.055686, -118.451951], [27.58295, -82.556497], [33.870827, -117.739453], [32.778781, -80.717384], [35.11371, -80.92234], [45.596061, -118.516197], [34.258761, -81.072154], [46.360726, -119.979069], [28.2298, -82.224588], [32.760126, -97.229195], [34.278268, -118.468648], [38.948817, -76.860031], [33.042685, -79.85516899999998], [42.989491, -85.59066], [33.833592, -118.208708], [28.5491, -81.47048199999998], [35.228432, -85.022719], [35.878876, -78.72864100000002], [40.12453, -76.469447], [25.811364, -80.19022], [33.80084, -118.20708], [38.547458, -121.361055], [25.940394, -80.191099], [29.828696, -95.525147], [29.625544, -95.282568], [40.75079, -111.609495], [37.489649, -77.4326], [40.45784, -79.9742], [45.529693, -122.665303], [38.841465, -77.43102900000002], [30.376493, -97.675917], [41.094843, -111.995841], [30.206288, -97.645842], [30.503765, -87.23015], [39.03136, -120.97638], [41.770051, -72.67489300000003], [46.09422, -123.09556], [39.01855, -76.97125], [44.16673, -93.94923], [39.95288, -75.13372], [44.88310900000001, -93.014727], [30.256218, -97.701943], [33.784667, -118.34785], [33.855432, -117.787009], [25.796846, -80.339247], [41.540643, -73.019359], [32.713255, -96.829685], [28.449924, -81.479136], [35.753027, -78.608921], [33.530493, -81.937304], [25.92122, -80.211526], [34.800084000000005, -91.753853], [35.816684, -78.690089], [28.668876, -81.38874], [33.782712, -117.880758], [28.467632, -81.462351], [37.12924, -121.97732], [39.064405, -76.913262], [38.444272, -120.530683], [33.80331, -118.14035], [37.393182, -120.739585], [34.031122, -118.259989], [32.837111, -97.040617], [37.764172, -118.999217], [34.26383, -118.33393], [34.067366, -117.563705], [33.877226, -118.142705], [32.208764, -110.975501], [48.274945, -92.952607], [38.433203000000006, -122.721476], [35.912479, -78.782088], [37.209639, -121.012328], [46.831447, -95.782473], [33.745532, -117.8838], [33.438790000000004, -117.62272], [34.121614, -117.911232], [38.817862, -76.94152199999998], [39.521352, -77.60026500000002], [32.73686, -96.71634], [35.048301, -85.17185699999997], [29.68541, -95.38042], [41.947015, -71.480654], [33.974486, -118.22786], [32.459232, -93.797325], [41.56751, -72.7273], [38.322403, -122.025712], [28.087956, -82.461743], [39.10707, -94.5696], [42.37719600000001, -88.139866], [40.739265, -74.063356], [30.31917, -81.70164], [34.037581, -118.086252], [43.794496, -70.315373], [33.782457, -84.390849], [40.293806, -76.980675], [28.493751, -81.491843], [40.05249, -76.360275], [36.175327, -86.76724499999996], [28.450573, -81.463959], [29.51919, -95.38694], [32.839821, -96.776937], [45.595782, -94.190436], [39.38966, -75.87138], [34.07323, -80.97059], [44.93339, -123.07436], [34.400271999999994, -117.127401], [25.902555, -80.199242], [35.46008, -97.696227], [34.055633, -118.197253], [35.630457, -78.566271], [37.40503, -121.90992], [38.83472800000001, -77.09830600000002], [33.930977, -118.287797], [33.620470000000005, -117.822715], [35.60971400000001, -78.565258], [44.47213, -95.75578], [43.981114, -91.689874], [30.480041, -84.302587], [45.558995, -122.678473], [34.036535, -118.156875], [33.697986, -84.280811], [28.5327, -81.52565], [40.265347, -76.10918199999998], [35.028035, -85.285623], [41.78255, -87.63128], [44.348924, -123.723685], [33.566503000000004, -117.672341], [47.407789, -122.220475], [35.21633, -80.78078000000002], [35.039762, -120.487713], [32.864027, -96.665822], [34.984771, -90.901983], [26.045612, -80.162826], [25.684783, -80.43155], [30.422685, -91.151913], [30.532896, -91.188716], [28.336029, -81.542002], [38.323279, -75.150103], [33.99123, -117.35222], [42.457319, -87.84269599999998], [25.809065, -80.241147], [38.539507, -121.473915], [33.92889, -118.291599], [37.623313, -120.943969], [38.982447, -94.356058], [42.969802, -74.083557], [34.068079, -117.400509], [39.50267, -74.61001], [43.861905, -92.488506], [34.549488000000004, -82.7062], [36.81725, -76.28181], [46.884216, -96.83985], [42.240509, -87.980592], [26.432451, -80.173019], [37.960032, -122.308785], [28.332864, -81.526842], [41.87019, -87.89125], [37.74155800000001, -122.407412], [34.862689, -80.96491800000003], [30.358736, -97.699469], [38.848808, -77.42073], [32.75953, -97.08149], [39.375911, -76.452924], [34.020305, -117.890338], [40.915971, -74.054342], [37.70862, -122.16374], [43.648426, -116.433571], [37.42164, -121.93436], [43.830317, -123.045132], [28.190672, -81.502725], [40.572864, -112.295084], [36.090871, -79.992538], [29.70662, -95.51081], [40.001119, -75.791442], [36.810844, -121.643972], [45.657624, -109.3058], [42.952498, -85.56792800000002], [38.638561, -121.384624], [39.64372, -84.30895], [29.369197, -81.140054], [37.731378, -122.425239], [26.494344, -81.930157], [45.58177, -122.54351], [37.93225, -120.450861], [28.532791, -82.51151], [34.340264000000005, -118.506313], [37.239687, -121.784852], [40.44425, -80.02821], [39.04205200000001, -94.675379], [37.71887, -121.66159], [26.519269, -80.072703], [30.392751, -91.160784], [34.03247, -118.02839], [41.85714, -88.149631], [32.781582, -96.827976], [39.997218, -85.777462], [25.811566, -80.37058499999998], [38.483195, -78.809844], [33.911325, -118.164524], [37.03239, -76.366986], [30.53431500000001, -87.316572], [33.930949, -118.294273], [29.74235, -95.364674], [32.732103, -117.111768], [42.26945, -85.51011], [37.49299, -120.99456], [25.702429, -80.33314200000002], [43.060083, -76.570448], [36.81485, -76.43162], [32.463606, -81.035432], [33.671083, -117.084839], [34.081711, -117.714895], [25.52394, -80.423016], [33.856053, -118.024397], [38.69441, -112.14731], [40.673367, -111.888182], [35.804003, -78.69385600000003], [40.85837, -74.36383000000002], [29.735966, -95.621697], [33.029069, -96.709029], [40.22721, -77.16020999999998], [45.948053, -93.431307], [25.846234, -80.232619], [34.118959999999994, -118.16268], [35.144871, -80.937076], [34.030705, -118.258178], [37.604558, -77.569087], [40.19108, -75.53206999999998], [37.18005, -93.216686], [42.96873, -83.72551999999997], [34.22148, -117.06735], [41.16159, -112.06442], [32.760304999999995, -97.112844], [34.727998, -81.234755], [47.499153, -95.976528], [32.30679, -81.8669], [39.031, -94.68883], [43.12206, -76.15593], [34.21572800000001, -80.524924], [37.554555, -77.48456800000002], [33.960141, -118.231589], [34.917320000000004, -82.316124], [34.036835, -118.034588], [25.702455, -80.332105], [39.697379, -75.907455], [40.323816, -75.44761], [27.83951, -82.78715], [45.531508, -122.572189], [34.00801, -117.96403], [39.47966, -85.47864], [29.958349, -90.061353], [44.977618, -93.400326], [38.85168, -76.95867], [45.317032, -122.905891], [37.63917100000001, -122.089956], [34.00801, -117.96824], [35.202543, -80.760545], [43.72827, -70.23588000000001], [29.120896, -82.18494], [38.939615, -76.855837], [39.048467, -77.069295], [34.972651, -90.001098], [39.48513, -111.496074], [40.328029, -76.782298], [34.064004, -117.283583], [34.287278, -81.536751], [38.640373, -121.319088], [38.81115, -120.124119], [28.2323, -81.6506], [35.718065, -119.236603], [26.0841, -80.19298], [47.494189, -92.729091], [43.6017, -73.72974], [37.83922000000001, -122.29694], [36.024845, -121.177664], [25.628951, -80.39030600000002], [42.89409000000001, -85.62653], [32.758823, -117.108695], [33.84104, -118.285737], [25.932208, -80.20385300000002], [39.76127, -111.836582], [40.797969, -73.99553], [41.665145, -87.747834], [38.397779, -81.55139399999999], [43.590311, -116.314211], [43.097892, -75.23167600000002], [34.350473, -118.504154], [33.341113, -87.021406], [45.410655, -123.824408], [30.57098, -87.291065], [40.547779, -111.983352], [41.98706, -87.86162], [40.387879, -74.17858299999997], [40.930713, -73.838757], [38.300517, -77.503577], [37.492298, -77.37329799999998], [40.331513, -74.638014], [37.507163, -122.338503], [37.86644, -122.03878], [40.76753, -73.90423], [34.137322999999995, -80.94050899999998], [27.44012, -82.45557600000002], [33.9661, -80.9844], [28.443251, -81.470274], [44.89838, -93.2], [34.348731, -77.732271], [45.06508, -93.930909], [32.975763, -96.933588], [40.85002, -73.94399200000002], [33.88843, -117.51361], [45.299508, -122.660211], [42.983867, -76.78223], [36.71225, -81.9977], [32.771755, -96.491307], [40.663392, -73.998356], [30.401455, -97.674604], [27.352256, -82.48361899999998], [33.82818, -84.48708], [38.899621, -77.444248], [34.285486, -118.460522], [34.018848, -117.722053], [39.01983, -77.01333000000002], [40.736065, -74.087401], [25.824404, -80.2066], [38.353217, -122.306425], [35.20294000000001, -80.73888000000002], [39.66602, -77.16668], [29.08709600000001, -81.290423], [37.815853, -122.251278], [34.15646, -118.25499], [27.299444, -82.454847], [28.447071, -81.47086800000002], [29.657179, -95.570632], [33.653731, -117.770312], [38.220724, -122.257541], [28.179994, -81.49361999999998], [45.06440900000001, -93.222866], [29.767604, -95.362096], [40.034993, -76.50608000000003], [34.266428999999995, -118.639244], [39.307373, -76.763673], [45.53067100000001, -122.634796], [35.72842, -78.857917], [34.049566, -97.149195], [38.428431, -121.397441], [44.88416, -93.189285], [38.47735, -81.64335], [37.532435, -77.429932], [44.883916, -93.138247], [35.039318, -82.00250799999998], [36.418224, -121.322582], [37.78443, -122.39342], [33.96238, -118.282704], [43.6824, -123.1982], [29.664071000000003, -95.312346], [25.648226, -80.332193], [37.29779, -121.87444], [43.036177, -77.719016], [34.100396999999994, -117.538816], [32.662306, -96.822897], [34.036390000000004, -117.3222], [32.916305, -96.961581], [28.81476, -81.393677], [34.0108, -117.962859], [27.49151, -82.47695999999998], [45.705391, -120.301494], [28.561149, -81.310792], [39.67009, -104.86508], [41.42602, -72.85380699999997], [41.62603, -87.57908], [39.80020800000001, -122.950275], [44.9739, -93.24968], [34.085248, -117.636392], [44.798998, -92.90039], [27.71316, -82.399098], [32.817377, -96.8681], [30.20482, -81.75805], [34.055591, -118.177687], [38.520994, -122.77723799999998], [33.426924, -82.058627], [41.60629, -87.7029], [36.047692, -86.713482], [29.199787, -82.185167], [42.873941, -78.813911], [45.706358, -121.483446], [38.883575, -76.844208], [37.57601, -77.46281], [40.712424, -73.823479], [32.8493, -96.908967], [34.079244, -117.62591299999998], [35.46680100000001, -119.074684], [41.122355, -73.353584], [36.863581, -76.195463], [30.224443, -81.573727], [26.124615, -80.168816], [41.083341, -73.71761], [25.57934, -80.368976], [32.508851, -93.744628], [29.890804, -95.318133], [38.334056, -121.468073], [33.90368, -118.185549], [34.77495, -82.33771], [33.551541, -117.186284], [40.740383, -111.904453], [32.65696, -117.08408], [40.369761, -75.401222], [25.688377, -80.350889], [40.470792, -111.446969], [40.271147, -77.038375], [30.652657, -84.975752], [41.307188, -73.098145], [32.778129, -96.807596], [36.864141, -76.195195], [32.883782000000004, -117.202316], [32.724162, -117.155574], [34.320122, -118.494981], [38.4204, -82.29361999999998], [44.053555, -93.249539], [45.109347, -93.4688], [28.019474, -82.7469], [39.31275, -104.88526], [26.368249, -80.118623], [29.80836, -95.441847], [25.78235, -80.23083000000003], [38.481622, -121.422277], [28.491194, -81.45878], [29.332304, -81.059011], [25.73589, -80.319411], [40.77723, -74.05803], [42.958564, -76.915164], [34.433486, -118.571241], [37.195093, -77.59258100000002], [41.01353, -73.706549], [25.75124, -80.400357], [34.0643, -117.262944], [45.220334, -123.089732], [27.80917800000001, -82.689796], [38.527947, -121.469103], [40.070105, -74.960842], [40.541872, -122.314669], [41.3379, -72.97839], [25.748096, -80.30178199999997], [33.918007, -118.182065], [38.663835, -121.273545], [27.96025, -82.43474], [38.884772, -75.373373], [33.574670000000005, -84.27615], [40.154698, -75.359024], [36.888432, -119.711171], [35.032185, -82.35769300000003], [37.025524, -120.939356], [45.450772, -122.727359], [34.386724, -117.412122], [40.89069, -74.41542], [40.239829, -122.257349], [27.79195, -82.67126999999998], [33.00378, -96.71595], [33.741805, -117.83392], [41.271748, -72.971114], [35.069475, -81.73652299999998], [33.988378000000004, -117.903909], [38.655755, -121.532908], [33.18353, -117.29147], [33.853970000000004, -117.924162], [32.96465, -96.91733], [45.6408, -118.68814], [40.813257, -76.333376], [45.84311, -95.38416], [37.013333, -121.341944], [34.117628, -117.843989], [30.23578, -92.390373], [35.55857, -82.545486], [33.400937, -86.787689], [33.870366, -117.683318], [40.962514, -73.84949300000002], [26.591949, -81.595963], [32.974362, -96.716906], [26.029239, -80.165616], [34.32367, -118.4556], [41.79706, -71.94811], [41.06257, -81.47909], [31.65822, -81.39327], [34.057163, -117.803867], [28.685806, -81.388489], [38.882896, -77.013359], [28.426819, -81.364565], [32.805465000000005, -117.113088], [34.061951, -117.182889], [40.71068, -74.00272], [34.07833, -81.15296], [30.634259000000004, -91.114851], [33.912704, -118.180194], [27.95060800000001, -82.513436], [37.9922, -122.03975], [42.99628, -70.84683000000003], [43.011656, -83.51666], [46.175302, -123.503531], [33.91435, -117.88273], [32.440033, -93.797417], [40.066406, -75.395928], [27.594984000000004, -82.008444], [34.07173, -118.10225], [34.962703000000005, -90.007024], [39.546771, -111.494969], [42.99643, -71.42201], [28.449855, -81.474317], [34.018296, -118.16814], [42.85506, -124.47178999999998], [25.47764500000001, -80.444253], [27.766131, -82.65213100000003], [37.74657, -122.2015], [44.741874, -92.966383], [34.163817, -118.224911], [43.058878, -83.557462], [42.151376, -79.367562], [33.855349, -117.78766], [45.01652, -122.99077], [34.041082, -117.129754], [37.94534, -122.05841], [41.032251, -73.752175], [35.86731, -78.84966999999997], [45.214426, -93.034567], [40.576091, -74.288398], [38.597571, -121.383095], [38.9607, -84.59544], [44.970128, -93.321754], [44.86177, -93.30224], [38.87524000000001, -76.97485999999998], [45.58542, -122.67967], [32.809563, -96.796835], [33.043996, -80.076686], [40.432659, -79.87074399999999], [39.88799, -75.10361999999998], [46.843869, -113.843002], [27.890326, -80.46459899999998], [44.97121, -93.37512], [36.72884000000001, -79.95370799999998], [37.376852, -121.854858], [34.190047, -79.800025], [37.263252, -77.32378800000002], [38.449535, -78.092407], [44.618149, -117.4963], [30.321228, -81.694244], [39.782963, -86.146491], [32.192763, -110.979477], [36.758486, -76.27566999999998], [32.793111, -96.726914], [34.44762, -117.653571], [36.108379, -95.94021], [35.96256500000001, -83.282808], [37.71096, -122.12671], [33.458646, -111.987273], [34.19618, -118.40266], [28.52593, -81.41639], [26.0853, -80.20259], [44.87474, -93.06085], [34.031369, -118.192302], [33.385992, -111.810018], [34.07003, -118.09953], [44.76653, -92.85922], [41.497539, -95.330976], [35.43523, -97.60106], [42.35972, -87.893724], [30.46359600000001, -81.648427], [37.370221, -121.90169], [34.61047, -82.571085], [40.73773, -74.07833000000002], [41.99701, -87.80679], [34.049458, -118.26431399999998], [34.289199, -117.835999], [35.922834, -84.069056], [40.907195, -74.499868], [41.06893, -80.76158000000002], [46.879659, -102.576137], [32.977096, -117.090566], [34.02535, -117.33431000000002], [37.31856, -121.88965], [47.533592, -95.012738], [35.288488, -80.847145], [38.21669, -122.13818], [41.213918, -77.190221], [28.30076, -81.57529], [35.128167, -84.86633], [25.971133, -80.205972], [29.424859, -98.649471], [25.59521, -80.37223], [45.01978, -93.08966], [25.98405, -80.34800600000001], [32.98758, -96.838953], [45.02849000000001, -93.45256], [45.47427, -122.787611], [38.259862, -122.660619], [30.510018, -87.252252], [43.89216, -92.79891], [27.64047, -82.67014], [40.503362, -80.02770699999998], [40.406724, -111.522124], [38.456092, -121.405423], [45.429549, -122.56557], [30.315798, -81.739998], [45.50026, -122.8673], [29.916452000000003, -90.116205], [42.154082, -87.959261], [44.92928, -93.02384], [36.03305, -79.80118], [33.779436, -117.87738799999998], [25.6839, -80.3173], [36.970174, -121.984761], [42.865294, -83.739563], [34.137793, -117.314769], [40.207487, -122.172502], [34.086275, -118.30246], [34.016107, -84.56890200000002], [39.12933, -74.78067], [36.860329, -76.195229], [35.997405, -111.029086], [27.993131, -82.326554], [33.031703, -80.038569], [40.001516, -122.190716], [47.613415, -116.684693], [33.20449, -117.179826], [44.96577, -93.27935], [42.401615, -83.071607], [39.047392, -94.447018], [38.055997, -78.925392], [46.894978, -95.372494], [39.420934, -77.48061700000002], [40.651602, -74.287148], [25.845884, -80.24920300000002], [45.06464, -93.20667], [34.365183, -118.503648], [35.484031, -120.662898], [38.65105300000001, -77.30256], [39.443241, -123.389309], [35.121735, -80.908759], [33.64888, -112.11483], [33.386437, -111.714066], [41.740709, -122.512059], [36.041173, -86.777124], [40.708874, -74.162287], [32.791362, -96.740829], [38.493032, -122.892867], [25.572135, -80.372313], [25.867955, -80.24910899999998], [34.04674, -118.2148], [34.867251, -82.237026], [38.958667, -92.212854], [25.80919, -80.206091], [38.852346, -76.952206], [32.97446, -96.71684], [45.253822, -123.16319], [25.988148, -80.165745], [43.102294, -76.181613], [37.635606, -77.54795899999998], [39.806695, -77.041851], [40.309256, -76.595427], [34.14502, -117.278676], [33.832431, -117.931993], [36.123482, -119.32488899999998], [41.10697, -84.99591], [42.06857, -87.75662], [28.551979, -81.47738100000002], [33.95474, -118.107561], [46.863236, -114.071134], [39.098812, -94.609914], [39.700373, -86.15383], [40.070556, -75.113721], [31.758051, -106.267332], [33.386469, -111.783101], [38.41184000000001, -122.71613700000002], [35.122439, -85.27565200000002], [35.69759699999999, -89.970062], [33.021793, -117.207985], [30.404172, -91.059094], [44.81732, -93.597131], [37.405339, -122.056326], [37.790336, -121.301087], [40.89999, -73.79602], [39.13638, -77.752503], [39.268673, -121.017442], [29.832543, -84.686387], [29.680477000000003, -95.388761], [25.891627, -80.163146], [35.778415, -78.61368399999998], [36.148487, -86.74557800000002], [36.99248, -76.42183100000003], [46.33605, -94.41248], [29.605568, -90.746072], [38.68606, -76.872376], [37.5285, -77.429487], [38.87935, -77.248704], [32.748884000000004, -96.700721], [40.038427, -76.08242], [30.359451, -97.716198], [40.71107, -111.8018], [45.53504, -122.65451000000002], [35.223584, -80.840928], [35.1413, -85.248598], [37.517133, -122.259891], [36.4317, -118.909245], [33.9809, -117.369128], [37.42528, -122.09804], [28.243811, -81.223166], [33.97545, -117.37236], [38.58236, -121.46267], [33.708811, -117.851682], [33.606608, -117.69379], [41.93962, -87.70819], [34.096019, -117.922735], [42.151719, -122.643567], [36.93887, -121.755661], [30.48731, -91.150419], [38.02389, -121.97026], [34.09723, -118.3136], [34.267070000000004, -118.44086], [28.337183000000003, -81.405204], [25.903431, -80.29229699999998], [27.76617, -82.65295], [25.80939200000001, -80.323371], [41.753147, -87.944839], [35.399858, -77.355104], [39.165719, -122.964422], [28.451368, -81.46520699999998], [38.998288, -77.039472], [45.00879000000001, -93.05711], [41.341091, -72.234603], [32.746562, -117.191495], [25.809039, -80.242257], [39.014143, -77.058716], [45.04537, -122.97522], [45.526, -122.6869], [32.915289, -96.741386], [37.458819, -122.137892], [45.529638, -123.60768], [34.074, -117.75227], [28.736726, -81.919201], [39.25702, -120.734118], [38.508056, -81.405247], [40.7469, -73.96901], [33.866004, -118.049752], [38.345385, -75.183616], [29.91699, -95.41261], [38.438082, -121.400996], [37.998795, -122.038327], [35.124188000000004, -85.311687], [39.28423, -76.53681999999998], [34.0711, -117.75941], [33.768062, -117.919865], [32.868536, -117.229417], [27.482322, -82.563275], [25.814241, -80.383415], [34.433601, -118.385603], [28.414777, -81.42268299999998], [33.174522, -117.214699], [35.08076, -89.93751999999998], [25.811832, -80.337373], [46.609608, -111.935806], [34.046184000000004, -118.269486], [40.94974600000001, -115.599678], [38.769592, -86.91375699999998], [40.043021, -75.00331], [37.55958, -122.27998999999998], [39.885276, -119.598417], [34.072111, -117.913223], [36.12333, -95.940301], [42.896273, -84.089011], [34.32501, -117.420948], [37.595184, -122.058277], [37.321615, -121.826838], [37.850394, -122.03391], [33.86034, -84.48106999999997], [37.495108, -122.233461], [45.45061, -122.579013], [25.732433, -80.33573], [40.177926, -74.100921], [29.98604000000001, -90.05279300000002], [33.871805, -117.544564], [39.09499, -94.543202], [40.60861, -74.12787], [29.948072, -90.083177], [38.245859, -122.090741], [38.937541, -76.922788], [37.867475, -121.638375], [45.11504, -122.9171], [33.376438, -87.610803], [47.63277, -122.70973], [35.272548, -78.61582299999998], [39.083722, -119.933184], [33.28261, -111.81346], [32.242808000000004, -110.884092], [26.0902, -80.2167], [35.141292, -80.74003], [34.819825, -114.59533], [36.759457, -119.830893], [32.736068, -96.801314], [43.314274, -123.34731399999998], [33.78495, -117.87985], [40.370888, -75.92659599999998], [35.157077, -85.257378], [26.26836, -81.74253], [44.768152, -93.980158], [48.09642, -122.18471], [41.785, -112.147023], [42.971897, -85.685007], [34.03025, -117.67227], [32.89222, -96.76936], [38.646228, -77.864388], [35.352976, -84.991384], [30.329552000000003, -81.67593199999997], [33.8549, -81.34435], [35.843656, -78.682802], [40.935078, -80.275334], [25.469576, -80.52406500000002], [32.797740000000005, -96.668711], [34.00732, -118.17253], [35.285153, -84.54543199999998], [48.60157, -122.23277], [25.887883, -80.35096800000002], [38.103748, -122.22982], [30.321246, -81.701277], [32.722076, -117.102662], [37.561926, -77.454421], [40.303527, -79.563024], [45.359891, -122.668269], [35.57258200000001, -78.770341], [38.531701, -77.358337], [37.863905, -122.303047], [40.804566, -73.264833], [38.69521500000001, -120.813492], [42.30971, -122.84719], [34.049458, -118.26431399999998], [25.80097300000001, -80.26453599999998], [33.774361, -118.085149], [28.454963, -81.470813], [32.920764, -96.849902], [34.60921, -118.152113], [34.037, -118.377325], [33.38852, -86.668021], [37.435423, -77.431478], [32.778538, -117.112071], [28.23033, -80.72010999999998], [28.093648, -82.756078], [32.370046, -86.32244], [33.96907, -117.328625], [38.791468, -77.163814], [25.9423, -80.309174], [33.809870000000004, -117.87923], [45.300784, -122.964434], [34.703575, -80.07656], [35.172709999999995, -80.85967], [27.284015000000004, -82.47278100000003], [41.592146, -93.761605]],\n",
              "                {\n",
              "                    minOpacity: 0.5,\n",
              "                    maxZoom: 18,\n",
              "                    max: 1.0,\n",
              "                    radius: 25,\n",
              "                    blur: 15,\n",
              "                    gradient: null\n",
              "                    })\n",
              "                .addTo(map_f5c39478658acb81bda9d9001b00e758);\n",
              "        \n",
              "&lt;/script&gt;\" style=\"position:absolute;width:100%;height:100%;left:0;top:0;border:none !important;\" allowfullscreen webkitallowfullscreen mozallowfullscreen></iframe></div></div>"
            ]
          },
          "metadata": {},
          "execution_count": 54
        }
      ]
    },
    {
      "cell_type": "markdown",
      "source": [
        "## Summary and Conclusion"
      ],
      "metadata": {
        "id": "ORK4Qvuo0BLg"
      }
    },
    {
      "cell_type": "markdown",
      "source": [
        "\n",
        "Insights:\n",
        "- No data from New York\n",
        "- The number of accidents per city decreases exponentially\n",
        "- Less than 5% of cities have more than 1000 yearly accidents.\n",
        "- Over 1200 cities have reported just one accident (need to investigate)"
      ],
      "metadata": {
        "id": "TwNkkTSmwv2M"
      }
    }
  ]
}